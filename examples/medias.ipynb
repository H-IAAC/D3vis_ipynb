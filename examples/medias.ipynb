{
 "cells": [
  {
   "cell_type": "markdown",
   "id": "ea3a8687-0a9d-4b64-8d9d-3b84c308f445",
   "metadata": {},
   "source": [
    "[![Open In Colab](https://colab.research.google.com/assets/colab-badge.svg)](https://colab.research.google.com/github/H-IAAC/d3vis_ipynb/blob/main/examples/medias.ipynb)"
   ]
  },
  {
   "cell_type": "code",
   "execution_count": null,
   "id": "42696192-10eb-43d3-baee-1bd4c0605fd6",
   "metadata": {},
   "outputs": [],
   "source": [
    "# !pip install d3vis_ipynb --quiet"
   ]
  },
  {
   "cell_type": "markdown",
   "id": "bac9c30a-80ed-499e-9aac-7756898341d9",
   "metadata": {},
   "source": [
    "# Image"
   ]
  },
  {
   "cell_type": "markdown",
   "id": "9c66eb14-2a75-474b-a240-333920760368",
   "metadata": {},
   "source": [
    "An image widget.\n",
    "\n",
    "Parameters:\n",
    "- **value**: a string with the file's path\n",
    "- **width**: an integer that defines the width in pixels (optional)\n",
    "- **height**: an integer that defines the height in pixels (optional)"
   ]
  },
  {
   "cell_type": "code",
   "execution_count": null,
   "id": "57d24ed7-8e36-41b1-9a61-cc32cbd94c03",
   "metadata": {},
   "outputs": [],
   "source": [
    "from d3vis_ipynb import Image\n",
    "import urllib.request\n",
    "import os\n",
    "import ssl\n",
    "ssl._create_default_https_context = ssl._create_unverified_context\n",
    "\n",
    "if not os.path.isfile(\"images/hiaac.png\"):\n",
    "    if not os.path.exists(\"images\"):\n",
    "        os.makedirs(\"images\")\n",
    "    url_link = \"https://raw.githubusercontent.com/H-IAAC/d3vis_ipynb/main/examples/images/hiaac.png\"\n",
    "    urllib.request.urlretrieve(url_link, 'images/hiaac.png') \n",
    "\n",
    "image = Image(\"images/hiaac.png\", width=150, height=150)\n",
    "image"
   ]
  },
  {
   "cell_type": "markdown",
   "id": "b2a89c9d-0cb5-40f5-bf04-19a699ffa4ba",
   "metadata": {},
   "source": [
    "# Video"
   ]
  },
  {
   "cell_type": "markdown",
   "id": "61765aba-e964-4673-9fd5-5d3827b30130",
   "metadata": {},
   "source": [
    "A video widget.\n",
    "\n",
    "Parameters:\n",
    "- **value**: a string with the file's path\n",
    "- **width**: an integer that defines the width in pixels (optional)\n",
    "- **height**: an integer that defines the height in pixels (optional)\n",
    "- **controls**: a boolean for showing or hiding the video's controls (default: True)\n",
    "- **loop**: a boolean that allows video to loop or not (default: True)\n",
    "- **muted**: a boolean for muting or unmuting the video (default: False)\n",
    "- **volume**: an integer for controling the volume (default: 1)\n",
    "\n",
    "Properties:\n",
    "- **duration**: video's total duration\n",
    "- **currentTime**: the current time of the video\n",
    "\n",
    "Callbacks:\n",
    "- **on_duration_set**: called when video finishes loading and the video duration is available.\n",
    "- **on_current_time_change**: called when current video's time changes.\n",
    "\n",
    "Functions:\n",
    "- **play()**: play video\n",
    "- **pause()**: pause video\n",
    "- **seekTo(time)**: seeks video to a determined time"
   ]
  },
  {
   "cell_type": "code",
   "execution_count": null,
   "id": "db599c31-ce95-46fa-854d-34fe3d8b7712",
   "metadata": {},
   "outputs": [],
   "source": [
    "from d3vis_ipynb import Video\n",
    "\n",
    "if not os.path.isfile(\"videos/bunny.mp4\"):\n",
    "    if not os.path.exists(\"videos\"):\n",
    "        os.makedirs(\"videos\")\n",
    "    url_link = \"https://sample-videos.com/video321/mp4/720/big_buck_bunny_720p_10mb.mp4\"\n",
    "    urllib.request.urlretrieve(url_link, 'videos/bunny.mp4') \n",
    "\n",
    "\n",
    "video = Video(file=\"videos/bunny.mp4\")\n",
    "video"
   ]
  },
  {
   "cell_type": "markdown",
   "id": "576458fb-889a-44ff-a17f-02ea467d3dfd",
   "metadata": {},
   "source": [
    "You can't get the duration immediately after the video is loaded, if you run all cells from this notebook at the same time the duration value will be *0*. Use the callback **on_duration_set** to get the duration on the right time:"
   ]
  },
  {
   "cell_type": "code",
   "execution_count": null,
   "id": "0f799bcf-e93e-43db-8259-85b4f73c9418",
   "metadata": {},
   "outputs": [],
   "source": [
    "def show_duration(values):\n",
    "    print(video.duration) #Check logs\n",
    "\n",
    "video.on_duration_set(show_duration)"
   ]
  },
  {
   "cell_type": "code",
   "execution_count": null,
   "id": "9494e2b0-366d-48ee-a4e5-885ea98a9c32",
   "metadata": {},
   "outputs": [],
   "source": [
    "video.duration #Run this cell again"
   ]
  },
  {
   "cell_type": "markdown",
   "id": "6cd0c722-b4ef-4c84-a008-a73bcaea2b09",
   "metadata": {},
   "source": [
    "In the example bellow it's implemented a loop where the video is played between two value in a range slider:"
   ]
  },
  {
   "cell_type": "code",
   "execution_count": null,
   "id": "91cfc1dd-6ebe-4538-af88-52b567378067",
   "metadata": {},
   "outputs": [],
   "source": [
    "from d3vis_ipynb import RangeSlider\n",
    "\n",
    "video2 = Video(file=\"videos/bunny.mp4\")\n",
    "rangeSlider = RangeSlider(minValue=0, step=0.1)\n",
    "\n",
    "def set_max_value(values):\n",
    "    rangeSlider.maxValue = video2.duration\n",
    "\n",
    "video2.on_duration_set(set_max_value)\n",
    "\n",
    "def on_time_changed(values):\n",
    "    if video2.currentTime > rangeSlider.toValue:\n",
    "        video2.seekTo(rangeSlider.fromValue)\n",
    "    elif video2.currentTime < rangeSlider.fromValue:\n",
    "        video2.seekTo(rangeSlider.fromValue)\n",
    "\n",
    "video2.on_current_time_change(on_time_changed)\n",
    "\n",
    "rangeSlider"
   ]
  },
  {
   "cell_type": "code",
   "execution_count": null,
   "id": "59fbc02e-f9a2-4909-bee7-400343dcee76",
   "metadata": {},
   "outputs": [],
   "source": [
    "video2"
   ]
  }
 ],
 "metadata": {
  "kernelspec": {
   "display_name": "Python 3 (ipykernel)",
   "language": "python",
   "name": "python3"
  },
  "language_info": {
   "codemirror_mode": {
    "name": "ipython",
    "version": 3
   },
   "file_extension": ".py",
   "mimetype": "text/x-python",
   "name": "python",
   "nbconvert_exporter": "python",
   "pygments_lexer": "ipython3",
   "version": "3.11.9"
  }
 },
 "nbformat": 4,
 "nbformat_minor": 5
}
