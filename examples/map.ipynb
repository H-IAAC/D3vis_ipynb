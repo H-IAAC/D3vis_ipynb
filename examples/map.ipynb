{
 "cells": [
  {
   "cell_type": "markdown",
   "id": "eea13071-4071-465f-a202-97ec2edcbf2d",
   "metadata": {},
   "source": [
    "[![Open In Colab](https://colab.research.google.com/assets/colab-badge.svg)](https://colab.research.google.com/github/H-IAAC/d3vis_ipynb/blob/main/examples/map.ipynb)"
   ]
  },
  {
   "cell_type": "markdown",
   "id": "5d115a86-64a2-4b7d-a5a1-a34c2738a2a4",
   "metadata": {},
   "source": [
    "# Import Datasets"
   ]
  },
  {
   "cell_type": "code",
   "execution_count": null,
   "id": "6833ba26-1ccb-49fb-b8e3-63da25ce9599",
   "metadata": {},
   "outputs": [],
   "source": [
    "import pandas as pd\n",
    "import os\n",
    "import numpy as np\n",
    "import gdown\n",
    "from d3vis_ipynb import MapPlot"
   ]
  },
  {
   "cell_type": "code",
   "execution_count": null,
   "id": "50f60251-fe69-4da8-862e-15037b6aee72",
   "metadata": {},
   "outputs": [],
   "source": [
    "output_path = \"data/dados_com_endereço.csv\"\n",
    " \n",
    "if not os.path.isfile(output_path):\n",
    "    if not os.path.exists(\"data\"):\n",
    "        os.makedirs(\"data\")\n",
    "    file_id = \"1KHOOsSLsPmfBR6_3624r-NCYgDtpYBWB\"\n",
    "    gdown.download(f\"https://drive.google.com/uc?id={file_id}\", output_path, quiet=False)\n",
    " \n",
    "df = pd.read_csv(output_path, encoding='utf-8')"
   ]
  },
  {
   "cell_type": "code",
   "execution_count": null,
   "id": "f979c181-89d7-4cb4-b722-2e2abefb7ab1",
   "metadata": {},
   "outputs": [],
   "source": [
    "df"
   ]
  },
  {
   "cell_type": "markdown",
   "id": "7a3f2282-1893-4860-9cab-9b80f34a1146",
   "metadata": {},
   "source": [
    "# Map Plot"
   ]
  },
  {
   "cell_type": "markdown",
   "id": "19aecdd1-37c0-4c76-9a5a-f03121cf0dde",
   "metadata": {},
   "source": [
    "Generates a geographical map with markers based on data.\n",
    "\n",
    "Parameters:\n",
    "- **data**: a pandas' DataFrame containing the latitude, longitude, and school names.\n",
    "- **on_selection_change**: a callback function triggered when selection changes (optional)."
   ]
  },
  {
   "cell_type": "code",
   "execution_count": null,
   "id": "4d0889b4-f0c3-4078-80ad-c8b235045fba",
   "metadata": {},
   "outputs": [],
   "source": [
    "mapa = MapPlot(df[['LATITUDE', 'LONGITUDE', 'ESTADO']])\n",
    "mapa"
   ]
  }
 ],
 "metadata": {
  "kernelspec": {
   "display_name": "Python 3 (ipykernel)",
   "language": "python",
   "name": "python3"
  },
  "language_info": {
   "codemirror_mode": {
    "name": "ipython",
    "version": 3
   },
   "file_extension": ".py",
   "mimetype": "text/x-python",
   "name": "python",
   "nbconvert_exporter": "python",
   "pygments_lexer": "ipython3",
   "version": "3.11.9"
  }
 },
 "nbformat": 4,
 "nbformat_minor": 5
}
