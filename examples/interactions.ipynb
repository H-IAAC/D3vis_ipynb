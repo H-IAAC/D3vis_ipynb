{
 "cells": [
  {
   "cell_type": "code",
   "execution_count": null,
   "id": "61b3e621-7560-4fd1-981c-2ca4b995de06",
   "metadata": {},
   "outputs": [],
   "source": [
    "from d3vis_ipynb import DecisionPlot, WaterfallPlot, MatrixLayout, BeeswarmPlot, ForcePlot\n",
    "import xgboost\n",
    "import shap\n",
    "import ssl\n",
    "import numpy as np\n",
    "np.set_printoptions(suppress=True)\n",
    "ssl._create_default_https_context = ssl._create_unverified_context\n",
    "# train XGBoost model\n",
    "X, y = shap.datasets.adult()\n",
    "X_display, y_display = shap.datasets.adult(display=True)\n",
    "model = xgboost.XGBClassifier(n_estimators=100, max_depth=2).fit(X, y)\n",
    "\n",
    "# compute SHAP values\n",
    "explainer = shap.Explainer(model, X)\n",
    "shap_values = explainer(X[:1000])"
   ]
  },
  {
   "cell_type": "code",
   "execution_count": null,
   "id": "45d875c9-02bb-4aa5-86dc-c6bdbf92fdf1",
   "metadata": {},
   "outputs": [],
   "source": [
    "decisionPlot = DecisionPlot(explanation=shap_values[:20])\n",
    "waterfallPlot = WaterfallPlot(explanation=shap_values[0])\n",
    "\n",
    "def on_decision_selected(values):\n",
    "    if(decisionPlot.selectedValues):\n",
    "        waterfallPlot.explanation = decisionPlot.selectedValues[0]\n",
    "\n",
    "decisionPlot.on_select_values(on_decision_selected)\n",
    "\n",
    "matrix = [[1, 2],\n",
    "          [1, 2],\n",
    "          [1, 2]]\n",
    "matrixLayout = MatrixLayout(matrix)\n",
    "matrixLayout.add(decisionPlot, 1)\n",
    "matrixLayout.add(waterfallPlot, 2)\n",
    "matrixLayout"
   ]
  },
  {
   "cell_type": "code",
   "execution_count": null,
   "id": "a6779889-34f5-4117-84f3-3618adf5cacd",
   "metadata": {},
   "outputs": [],
   "source": [
    "decisionPlot.selectedValues"
   ]
  },
  {
   "cell_type": "code",
   "execution_count": null,
   "id": "91b1b72d-b09b-4a45-86cc-81ba16043c6f",
   "metadata": {},
   "outputs": [],
   "source": [
    "beeswarmPlot = BeeswarmPlot(explanation=shap_values[:20])\n",
    "forcePlot = ForcePlot(explanation=shap_values[0])\n",
    "\n",
    "def on_beeswarm_selected(values):\n",
    "    if(beeswarmPlot.selectedValues):\n",
    "        forcePlot.explanation = beeswarmPlot.selectedValues[0]\n",
    "\n",
    "beeswarmPlot.on_select_values(on_beeswarm_selected)\n",
    "\n",
    "matrix = [[1],\n",
    "          [1],\n",
    "          [2]]\n",
    "matrixLayout = MatrixLayout(matrix)\n",
    "matrixLayout.add(beeswarmPlot, 1)\n",
    "matrixLayout.add(forcePlot, 2)\n",
    "matrixLayout"
   ]
  }
 ],
 "metadata": {
  "kernelspec": {
   "display_name": "Python 3 (ipykernel)",
   "language": "python",
   "name": "python3"
  },
  "language_info": {
   "codemirror_mode": {
    "name": "ipython",
    "version": 3
   },
   "file_extension": ".py",
   "mimetype": "text/x-python",
   "name": "python",
   "nbconvert_exporter": "python",
   "pygments_lexer": "ipython3",
   "version": "3.11.9"
  }
 },
 "nbformat": 4,
 "nbformat_minor": 5
}
