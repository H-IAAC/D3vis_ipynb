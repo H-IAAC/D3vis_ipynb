{
 "cells": [
  {
   "cell_type": "markdown",
   "id": "e2be1ac5-c591-4ec9-b887-3d9f6693d6ea",
   "metadata": {},
   "source": [
    "[![Open In Colab](https://colab.research.google.com/assets/colab-badge.svg)](https://colab.research.google.com/github/H-IAAC/d3vis_ipynb/blob/main/examples/web_widget.ipynb)"
   ]
  },
  {
   "cell_type": "code",
   "execution_count": null,
   "id": "6a2c70da-beae-46b6-9de1-247424e8799e",
   "metadata": {},
   "outputs": [],
   "source": [
    "from d3vis_ipynb import CustomWidget, Embedding\n",
    "import traitlets"
   ]
  },
  {
   "cell_type": "markdown",
   "id": "0a91a3cd-2e8d-4a05-aa59-a6323ae04fb7",
   "metadata": {},
   "source": [
    "# Import Datasets"
   ]
  },
  {
   "cell_type": "code",
   "execution_count": null,
   "id": "f4b20564-39ac-4d91-aaf1-959510e91ac0",
   "metadata": {},
   "outputs": [],
   "source": [
    "import statsmodels.api as sm\n",
    "import ssl\n",
    "ssl._create_default_https_context = ssl._create_unverified_context\n",
    "affairs = sm.datasets.get_rdataset('Affairs', 'AER').data\n",
    "affairsData = affairs.to_dict(orient='records')\n",
    "affairs.head()"
   ]
  },
  {
   "cell_type": "markdown",
   "id": "439de94a-ac20-4696-8242-529519dca9d6",
   "metadata": {},
   "source": [
    "# CustomWidget"
   ]
  },
  {
   "cell_type": "markdown",
   "id": "f1d9cdf4-72ac-49ec-b3ed-67b54af19f11",
   "metadata": {},
   "source": [
    "Generates a widget using JavaScript code from a external source. It's an encapsulation of the anywidget library to generate a widget without hanving to implement the render function.\n",
    "\n",
    "Functions:\n",
    "- **createWidgetFromUrl**: Creates a widget using a url. Parameters:\n",
    "    - **widgetCall**: a string that represents how the JavaScriptFunction should be called\n",
    "    - **varList**: a list of variables used by the widget. The variable *ElementId* is necessary  for the widget to function with the *Embedding* tool\n",
    "    - **updatableVars**: a subset of varList, only the variables that can re-render the widget when changed\n",
    "    - **jsUrl**: the url from which the JavaScript code come from\n",
    " \n",
    "- **createWidgetFromLocalFile**: Creates a widget using a url. Parameters:\n",
    "    - **widgetCall**: a string that represents how the JavaScriptFunction should be called\n",
    "    - **varList**: a list of variables used by the widget. The variable *ElementId* is necessary  for the widget to function with the *Embedding* tool\n",
    "    - **updatableVars**: a subset of varList, only the variables that can re-render the widget when changed\n",
    "    - **filePath**: the file path from which the JavaScript code come from\n",
    "\n",
    "CustomWidget rules:\n",
    "- a class encapluating CustomWidget must be defined with the following variables:\n",
    "    - **_esm**: must contain the JavaScript code\n",
    "    - **_css**: must contain the css code (optional)\n",
    "- variables with the same names as in *varList* must be defined with traitlets\n",
    "- one of the parameters of the main JavaScript function must be *element*, this parameter is where the html/js contents must be generated\n",
    "\n",
    "The example bellow shows the same implementation as shown in the example *widgets.ipynb* but using CustomWidget instead:"
   ]
  },
  {
   "cell_type": "markdown",
   "id": "46891e21-6bec-4452-a041-07d50cc5af1a",
   "metadata": {},
   "source": [
    "## Barplot"
   ]
  },
  {
   "cell_type": "code",
   "execution_count": null,
   "id": "32b42cf6-d344-4c79-9df8-11c7586d9227",
   "metadata": {},
   "outputs": [],
   "source": [
    "url = \"https://raw.githubusercontent.com/H-IAAC/d3vis_ipynb/main/samples/barplot.js\"\n",
    "\n",
    "class CustomBarplot(CustomWidget):\n",
    "    _esm = CustomWidget.createWidgetFromUrl(widgetCall=\"barplot(data, x, y, hue, element, width, height, margin)\",\n",
    "                               varList=[\"data\", \"x\", \"y\", \"hue\", \"elementId\"],\n",
    "                               updatableVars=[\"data\", \"x\", \"y\", \"hue\", \"elementId\"],\n",
    "                               jsUrl=url)\n",
    "    \n",
    "    data = traitlets.List([]).tag(sync=True)\n",
    "    x = traitlets.Unicode().tag(sync=True)\n",
    "    y = traitlets.Unicode().tag(sync=True)\n",
    "    hue = traitlets.Unicode().tag(sync=True)\n",
    "    elementId = traitlets.Unicode().tag(sync=True)\n",
    "\n",
    "barplot = CustomBarplot(data=affairsData, x='education', y='rating')"
   ]
  },
  {
   "cell_type": "markdown",
   "id": "2bc7bbb1-a74d-40fe-bff7-b67d5aae4e1d",
   "metadata": {},
   "source": [
    "## HistogramPlot"
   ]
  },
  {
   "cell_type": "code",
   "execution_count": null,
   "id": "9bfca02c-bced-4c49-b369-e4e5653afabb",
   "metadata": {},
   "outputs": [],
   "source": [
    "url = \"https://raw.githubusercontent.com/H-IAAC/d3vis_ipynb/main/samples/histogramplot.js\"\n",
    "\n",
    "class CustomHistogramplot(CustomWidget):\n",
    "    _esm = CustomWidget.createWidgetFromUrl(widgetCall=\"histogramplot(data, x, start, end, element, width, height, margin)\",\n",
    "                               varList=[\"data\", \"x\", \"start\", \"end\", \"elementId\"],\n",
    "                               updatableVars=[\"data\", \"x\", \"start\", \"end\", \"elementId\"],\n",
    "                               jsUrl=url)\n",
    "    \n",
    "    data = traitlets.List([]).tag(sync=True)\n",
    "    x = traitlets.Unicode().tag(sync=True)\n",
    "    start = traitlets.Float().tag(sync=True)\n",
    "    end = traitlets.Float().tag(sync=True)\n",
    "    elementId = traitlets.Unicode().tag(sync=True)\n",
    "\n",
    "histplot = CustomHistogramplot(data=affairsData, x='education')"
   ]
  },
  {
   "cell_type": "markdown",
   "id": "66567c89-0d1a-403f-9de4-2ff7714986a3",
   "metadata": {},
   "source": [
    "## ScatterPlot"
   ]
  },
  {
   "cell_type": "code",
   "execution_count": null,
   "id": "c5e5b7f6-6478-4e2c-8060-4ffb6e6d4b50",
   "metadata": {},
   "outputs": [],
   "source": [
    "url = \"https://raw.githubusercontent.com/H-IAAC/d3vis_ipynb/main/samples/scatterplot.js\"\n",
    "\n",
    "class CustomScatterplot(CustomWidget):\n",
    "    _esm = CustomWidget.createWidgetFromUrl(widgetCall=\"scatterplot(data, x, y, hue, element, setValue, setSelectedValues, width, height, margin)\",\n",
    "                               varList=[\"data\", \"x\", \"y\", \"hue\", \"elementId\", \"clickedValue\", \"selectedValues\"],\n",
    "                               updatableVars=[\"data\", \"x\", \"y\", \"hue\", \"elementId\"],\n",
    "                               jsUrl=url)\n",
    "    \n",
    "    data = traitlets.List([]).tag(sync=True)\n",
    "    x = traitlets.Unicode().tag(sync=True)\n",
    "    y = traitlets.Unicode().tag(sync=True)\n",
    "    hue = traitlets.Unicode().tag(sync=True)\n",
    "    elementId = traitlets.Unicode().tag(sync=True)\n",
    "    clickedValue = traitlets.Unicode().tag(sync=True)\n",
    "    selectedValues = traitlets.List([]).tag(sync=True)\n",
    "\n",
    "    def on_select_values(self, callback):\n",
    "        self.observe(callback, names=[\"selectedValues\"])\n",
    "\n",
    "    def on_click_value(self, callback):\n",
    "        self.observe(callback, names=[\"clickedValue\"])\n",
    "\n",
    "scatterplot = CustomScatterplot(data = affairsData, x = 'age', y = 'yearsmarried', hue = \"children\")"
   ]
  },
  {
   "cell_type": "markdown",
   "id": "44b9ba8e-e1e3-489d-a412-3b99f55fc439",
   "metadata": {},
   "source": [
    "## RangeSlider"
   ]
  },
  {
   "cell_type": "code",
   "execution_count": null,
   "id": "2c52316b-fbd8-472b-99bc-ddc1a8c49cf3",
   "metadata": {},
   "outputs": [],
   "source": [
    "url = \"https://raw.githubusercontent.com/H-IAAC/d3vis_ipynb/main/samples/rangeslider.js\"\n",
    "\n",
    "from d3vis_ipynb import CustomWidget\n",
    "import traitlets\n",
    "class CustomRangeSlider(CustomWidget):\n",
    "    _esm = CustomWidget.createWidgetFromUrl(widgetCall=\"rangeslider(data, variable, step, description, minValue, maxValue, setValues, element, margin)\",\n",
    "                               varList=[\"data\", \"variable\", \"step\", \"description\", \"minValue\", \"maxValue\", \"elementId\"],\n",
    "                               updatableVars=[\"data\", \"variable\", \"step\", \"description\", \"elementId\"],\n",
    "                               jsUrl=url)\n",
    "    \n",
    "    data = traitlets.List([]).tag(sync=True)\n",
    "    variable = traitlets.Unicode().tag(sync=True)\n",
    "    step = traitlets.Float().tag(sync=True)\n",
    "    description = traitlets.Unicode().tag(sync=True)\n",
    "    minValue = traitlets.Float().tag(sync=True)\n",
    "    maxValue = traitlets.Float().tag(sync=True)\n",
    "    elementId = traitlets.Unicode().tag(sync=True)\n",
    "\n",
    "    def on_drag(self, callback):\n",
    "        self.observe(callback, names=[\"minValue\", \"maxValue\"])\n",
    "\n",
    "rangeSlider = CustomRangeSlider(data=affairsData, variable=\"age\", step=0.1, description=\"Age:\")"
   ]
  },
  {
   "cell_type": "markdown",
   "id": "9d68df36-c278-4343-a3cc-d97da15eb8f0",
   "metadata": {},
   "source": [
    "## Embedding"
   ]
  },
  {
   "cell_type": "code",
   "execution_count": null,
   "id": "e570a743-afd7-4beb-abf6-ac6e0fbc65ab",
   "metadata": {},
   "outputs": [],
   "source": [
    "def on_selected(values):\n",
    "    barplot.data = scatterplot.selectedValues\n",
    "    histplot.data = scatterplot.selectedValues\n",
    "    print(scatterplot.selectedValues)\n",
    "    \n",
    "scatterplot.on_select_values(on_selected)\n",
    "\n",
    "def on_values_changed(values):\n",
    "    newData = affairs[affairs[\"age\"].between(\n",
    "        rangeSlider.minValue, rangeSlider.maxValue)].to_dict(orient='records')\n",
    "    scatterplot.data = newData\n",
    "\n",
    "rangeSlider.on_drag(on_values_changed)\n",
    "\n",
    "matrix = [\n",
    "    [3, 3, 1, 1], \n",
    "    [3, 3, 1, 1],\n",
    "    [3, 3, 2, 2],\n",
    "    [4, 4, 2, 2]\n",
    "]\n",
    "embed = Embedding(matrix, style=\"neumorphism\")\n",
    "embed.add(barplot, 1)\n",
    "embed.add(histplot, 2)\n",
    "embed.add(scatterplot, 3)\n",
    "embed.add(rangeSlider, 4)\n",
    "\n",
    "embed"
   ]
  }
 ],
 "metadata": {
  "kernelspec": {
   "display_name": "Python 3 (ipykernel)",
   "language": "python",
   "name": "python3"
  },
  "language_info": {
   "codemirror_mode": {
    "name": "ipython",
    "version": 3
   },
   "file_extension": ".py",
   "mimetype": "text/x-python",
   "name": "python",
   "nbconvert_exporter": "python",
   "pygments_lexer": "ipython3",
   "version": "3.11.9"
  }
 },
 "nbformat": 4,
 "nbformat_minor": 5
}
