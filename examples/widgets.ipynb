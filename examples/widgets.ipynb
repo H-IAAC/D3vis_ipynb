{
 "cells": [
  {
   "cell_type": "markdown",
   "id": "eea13071-4071-465f-a202-97ec2edcbf2d",
   "metadata": {},
   "source": [
    "[![Open In Colab](https://colab.research.google.com/assets/colab-badge.svg)](https://colab.research.google.com/github/H-IAAC/d3vis_ipynb/blob/main/examples/widgets.ipynb)"
   ]
  },
  {
   "cell_type": "code",
   "execution_count": null,
   "id": "68670d1f-d7df-498e-a1bc-63a254bf2048",
   "metadata": {},
   "outputs": [],
   "source": [
    "from d3vis_ipynb import BarPlot, HistogramPlot, ScatterPlot, LinearPlot, RangeSlider, Embedding"
   ]
  },
  {
   "cell_type": "markdown",
   "id": "5d115a86-64a2-4b7d-a5a1-a34c2738a2a4",
   "metadata": {},
   "source": [
    "# Import Datasets"
   ]
  },
  {
   "cell_type": "code",
   "execution_count": null,
   "id": "247eba0b-3f84-4c97-a5c1-423a6330c821",
   "metadata": {
    "jp-MarkdownHeadingCollapsed": true
   },
   "outputs": [],
   "source": [
    "import statsmodels.api as sm\n",
    "import ssl\n",
    "ssl._create_default_https_context = ssl._create_unverified_context\n",
    "iris = sm.datasets.get_rdataset('iris').data\n",
    "iris.head()"
   ]
  },
  {
   "cell_type": "code",
   "execution_count": null,
   "id": "398bd51c-b52f-4284-8437-c19830cde8e5",
   "metadata": {},
   "outputs": [],
   "source": [
    "affairs = sm.datasets.get_rdataset('Affairs', 'AER').data\n",
    "affairs.head()"
   ]
  },
  {
   "cell_type": "markdown",
   "id": "403e72f2-139c-4a5f-b8a6-b5769402bbf6",
   "metadata": {},
   "source": [
    "# BarPlot"
   ]
  },
  {
   "cell_type": "markdown",
   "id": "a21e9a8f-c0d7-46f9-860f-2831c44bbc06",
   "metadata": {},
   "source": [
    "Generates a bar plot from data.\n",
    "\n",
    "Parameters:\n",
    "- **data**: a pandas' DataFrame\n",
    "- **x**: a string representing the X axis\n",
    "- **y**: a string representing the Y axis\n",
    "- **hue**: a string representing to which variable the X axis is going to be grouped by (optional)"
   ]
  },
  {
   "cell_type": "code",
   "execution_count": null,
   "id": "28d759ef-165f-4a78-93d5-e9b8e7ec82cc",
   "metadata": {},
   "outputs": [],
   "source": [
    "barplot = BarPlot(data=iris, x='Sepal.Length', y='Sepal.Width')\n",
    "barplot"
   ]
  },
  {
   "cell_type": "markdown",
   "id": "ddce6f52-0ec2-44d8-a548-2f60ca259f69",
   "metadata": {},
   "source": [
    "Whenever a widget's parameter is changed the image updates automaticaly. Uncoment the lines bellow and test each line:"
   ]
  },
  {
   "cell_type": "code",
   "execution_count": null,
   "id": "93d31d28-2001-4755-a732-8b60938ca312",
   "metadata": {},
   "outputs": [],
   "source": [
    "# barplot.x = \"Petal.Length\"\n",
    "# barplot.data = barplot.data[:20]"
   ]
  },
  {
   "cell_type": "markdown",
   "id": "7525d699-b77f-49b4-9973-8884a16683bc",
   "metadata": {},
   "source": [
    "Same graph, but with hue:"
   ]
  },
  {
   "cell_type": "code",
   "execution_count": null,
   "id": "fd40ff75-bbc1-46f3-a76d-626e3c98ef79",
   "metadata": {},
   "outputs": [],
   "source": [
    "barplot2 = BarPlot(data=iris, x='Sepal.Length', y='Sepal.Width', hue='Species')\n",
    "barplot2"
   ]
  },
  {
   "cell_type": "markdown",
   "id": "58a3563c-99aa-4805-980f-b17febab0035",
   "metadata": {},
   "source": [
    "# HistogramPlot"
   ]
  },
  {
   "cell_type": "markdown",
   "id": "deabf5a4-2227-46e4-beaa-5bb86a38c3e0",
   "metadata": {},
   "source": [
    "Generates a histogram plot from data.\n",
    "\n",
    "Parameters:\n",
    "- **data**: a pandas' DataFrame\n",
    "- **x**: a string representing the X axis\n",
    "- **start**: a number representing the start of the X's values (optional)\n",
    "- **end**: a number representing the end of the X's values (optional)"
   ]
  },
  {
   "cell_type": "code",
   "execution_count": null,
   "id": "476fdec7-cb4d-4587-b4f1-e92c56849c7d",
   "metadata": {},
   "outputs": [],
   "source": [
    "histplot = HistogramPlot(data=iris, x='Petal.Length')\n",
    "histplot"
   ]
  },
  {
   "cell_type": "markdown",
   "id": "fef5936b-edde-4016-bcca-1f0e6af532c3",
   "metadata": {},
   "source": [
    "Now, the same graph but with only the values in the middle:"
   ]
  },
  {
   "cell_type": "code",
   "execution_count": null,
   "id": "549ef884-cdc1-4bed-be06-2371f521dbbf",
   "metadata": {},
   "outputs": [],
   "source": [
    "histplot2 = HistogramPlot(data=iris, x='Petal.Length', start=3, end=5)\n",
    "histplot2"
   ]
  },
  {
   "cell_type": "markdown",
   "id": "dbe6359a-de38-47e0-8801-9f4dc09d649a",
   "metadata": {},
   "source": [
    "# ScatterPlot"
   ]
  },
  {
   "cell_type": "markdown",
   "id": "685ecdad-0e2f-42c2-8122-2b4832c18c73",
   "metadata": {},
   "source": [
    "Generates a scatter plot from data.\n",
    "\n",
    "Parameters:\n",
    "- **data**: a pandas' DataFrame\n",
    "- **x**: a string representing the X axis\n",
    "- **y**: a string representing the Y axis\n",
    "- **hue**: a string representing to which variable the dots are going to be collored by (optional)\n",
    "\n",
    "Callbacks:\n",
    "- **on_click_value**: will be called when a dot is clicked. Change the value of *clickedValue*\n",
    "- **on_select_values**: will be called when multiple dots are selected. Change the value of *selectedValues*"
   ]
  },
  {
   "cell_type": "code",
   "execution_count": null,
   "id": "1522e302-3048-45a5-9aa3-4a4b181b0039",
   "metadata": {},
   "outputs": [],
   "source": [
    "scatterplot = ScatterPlot(data = iris, x = 'Sepal.Length', y = 'Sepal.Width', hue = \"Species\")\n",
    "scatterplot"
   ]
  },
  {
   "cell_type": "markdown",
   "id": "bdbe1492-8d39-4102-a228-3faf1bc371aa",
   "metadata": {},
   "source": [
    "Click on a dot, then run the cell bellow:"
   ]
  },
  {
   "cell_type": "code",
   "execution_count": null,
   "id": "a2ee5409-9c91-458e-9da5-8fc58225ee0e",
   "metadata": {},
   "outputs": [],
   "source": [
    "scatterplot.clickedValue"
   ]
  },
  {
   "cell_type": "markdown",
   "id": "f128b03a-f9b1-42fa-b9ee-d9e2b0d2e3b5",
   "metadata": {},
   "source": [
    "Click and drag the mouse to select multiple dots, then run the cell bellow:"
   ]
  },
  {
   "cell_type": "code",
   "execution_count": null,
   "id": "0cda63cd-1d85-4a91-af05-eebb9ba6a8fc",
   "metadata": {},
   "outputs": [],
   "source": [
    "scatterplot.selectedValues"
   ]
  },
  {
   "cell_type": "markdown",
   "id": "53e09a0c-73c7-44e4-a15c-44324d21f2ce",
   "metadata": {},
   "source": [
    "Using a callback to define a relationship between a scatter plot and a bar plot:"
   ]
  },
  {
   "cell_type": "code",
   "execution_count": null,
   "id": "19df9519-1d33-4cd2-9d09-b8c7f6fbb3a7",
   "metadata": {},
   "outputs": [],
   "source": [
    "scatterplot2 = ScatterPlot(data = iris, x = 'Sepal.Length', y = 'Sepal.Width', hue = \"Species\")\n",
    "barplot3 = BarPlot(data=iris, x='Sepal.Length', y='Sepal.Width')\n",
    "\n",
    "def on_selected(values):\n",
    "    barplot3.data = scatterplot2.selectedValues\n",
    "    \n",
    "scatterplot2.on_select_values(on_selected)"
   ]
  },
  {
   "cell_type": "markdown",
   "id": "e34fae55-9e48-4f04-8768-bd40e208c179",
   "metadata": {},
   "source": [
    "Select the dots on the graph bellow and see how it afects the bar plot:"
   ]
  },
  {
   "cell_type": "code",
   "execution_count": null,
   "id": "6b30d191-1d93-4c54-af66-cd2886ecfc03",
   "metadata": {},
   "outputs": [],
   "source": [
    "scatterplot2"
   ]
  },
  {
   "cell_type": "code",
   "execution_count": null,
   "id": "3db73efd-a91b-4ce2-aa00-6d1fcc8c5970",
   "metadata": {},
   "outputs": [],
   "source": [
    "barplot3"
   ]
  },
  {
   "cell_type": "markdown",
   "id": "2d4938d6-021c-4048-81a8-487922c4c721",
   "metadata": {},
   "source": [
    "# LinearPlot"
   ]
  },
  {
   "cell_type": "markdown",
   "id": "039fe5f1-350c-478d-8d95-8fb7f163cc93",
   "metadata": {},
   "source": [
    "Generates a linear plot from data. It shows the mean value on Y axis for the same value in X axis.\n",
    "\n",
    "Parameters:\n",
    "- **data**: a pandas' DataFrame\n",
    "- **x**: a string representing the X axis\n",
    "- **y**: a string representing the Y axis\n",
    "- **hue**: a string representing to which variable the dots are going to be collored by (optional)\n",
    "\n",
    "Callbacks:\n",
    "- **on_click_value**: will be called when a dot is clicked. Change the value of *clickedValue*\n",
    "- **on_select_values**: will be called when multiple dots are selected. Change the value of *selectedValues*"
   ]
  },
  {
   "cell_type": "code",
   "execution_count": null,
   "id": "27c3aeec-fd36-4179-98b4-f803d8bb1ac4",
   "metadata": {
    "scrolled": true
   },
   "outputs": [],
   "source": [
    "linearplot = LinearPlot(data = iris, x = 'Sepal.Length', y = 'Sepal.Width', hue = \"Species\")\n",
    "linearplot"
   ]
  },
  {
   "cell_type": "markdown",
   "id": "c645630b-6119-4e57-aa55-943410797f4b",
   "metadata": {},
   "source": [
    "Click on a dot, then run the cell bellow:"
   ]
  },
  {
   "cell_type": "code",
   "execution_count": null,
   "id": "fa0e82d6-8293-4f4e-8e33-0ea5957a9bb2",
   "metadata": {},
   "outputs": [],
   "source": [
    "linearplot.clickedValue"
   ]
  },
  {
   "cell_type": "markdown",
   "id": "40e42304-6064-43b6-b732-ad2f55ecb4d0",
   "metadata": {},
   "source": [
    "Click and drag the mouse to select multiple dots, then run the cell bellow:"
   ]
  },
  {
   "cell_type": "code",
   "execution_count": null,
   "id": "f507fc5b-f7f9-4432-a52c-46e08ba76bb5",
   "metadata": {},
   "outputs": [],
   "source": [
    "linearplot.selectedValues"
   ]
  },
  {
   "cell_type": "markdown",
   "id": "58100a50-9b62-4d5c-9b7d-910d93fef366",
   "metadata": {},
   "source": [
    "A plot without hue:"
   ]
  },
  {
   "cell_type": "code",
   "execution_count": null,
   "id": "9dd0c457-4c38-42fb-8e6d-a8339e9e7997",
   "metadata": {},
   "outputs": [],
   "source": [
    "linearplot2 = LinearPlot(data = iris, x = 'Sepal.Length', y = 'Sepal.Width')\n",
    "linearplot2"
   ]
  },
  {
   "cell_type": "markdown",
   "id": "a526916f-59b8-471d-b593-e83c69d24a19",
   "metadata": {},
   "source": [
    "# RangeSlider"
   ]
  },
  {
   "cell_type": "markdown",
   "id": "6f347f4e-911c-492d-b003-a7eac667b397",
   "metadata": {},
   "source": [
    "Generates a scatter plot from data.\n",
    "\n",
    "Parameters:\n",
    "- **data**: a pandas' DataFrame\n",
    "- **variable**: a string representing which variable is going to get selected from data\n",
    "- **step**: a number representing the step distance when draging the slider (optional)\n",
    "- **description**: the title of the slider (optional)\n",
    "\n",
    "Callbacks:\n",
    "- **on_drag**: will be called when the slider is draged. Change the value of *minValue* and *maxValue*"
   ]
  },
  {
   "cell_type": "code",
   "execution_count": null,
   "id": "0e855c80-a159-4049-9a36-9d553e499934",
   "metadata": {},
   "outputs": [],
   "source": [
    "rangeSlider = RangeSlider(data=iris, variable=\"Sepal.Length\", step=0.1, description=\"Sepal Length:\")\n",
    "scatterplot3 = ScatterPlot(data = iris, x = 'Sepal.Length', y = 'Sepal.Width', hue = \"Species\")\n",
    "\n",
    "def on_values_changed(values):\n",
    "    newData = iris[iris[\"Sepal.Length\"].between(\n",
    "        rangeSlider.minValue, rangeSlider.maxValue)]\n",
    "    scatterplot3.data = newData\n",
    "\n",
    "rangeSlider.on_drag(on_values_changed)\n",
    "rangeSlider"
   ]
  },
  {
   "cell_type": "markdown",
   "id": "eb18012c-f2ab-4702-81f6-10227b2b0687",
   "metadata": {},
   "source": [
    "Drag the slider and see the changes bellow:"
   ]
  },
  {
   "cell_type": "code",
   "execution_count": null,
   "id": "12331dd9-4325-4973-a90c-8af10ce9cad4",
   "metadata": {},
   "outputs": [],
   "source": [
    "scatterplot3"
   ]
  },
  {
   "cell_type": "markdown",
   "id": "7a3f2282-1893-4860-9cab-9b80f34a1146",
   "metadata": {},
   "source": [
    "# Embedding"
   ]
  },
  {
   "cell_type": "markdown",
   "id": "19aecdd1-37c0-4c76-9a5a-f03121cf0dde",
   "metadata": {},
   "source": [
    "A layout to position different widgets in a single cell.\n",
    "\n",
    "Parameters:\n",
    "- **matrix**: a list of lists that represents the format of the layout\n",
    "- **style**: a string containing which style the embedding is going to be rendered in (optional). Possible values are: *basic, dark, glassmorphism, neumorphism* and *minimalism*\n",
    "\n",
    "Functions:\n",
    "- **add(widget, position)**: add a widget to a certain position in the matrix\n",
    "\n",
    "Matrix rules:\n",
    "- it must contain only sequential integers\n",
    "- the repeated numbers must form squares or rectangles on the rows and columns of the matrix and no other shapes\n",
    "- there can't be more than one shape with a certain number\n",
    "- All rows must have the same size\n",
    "\n",
    "See the examples bellow:"
   ]
  },
  {
   "cell_type": "code",
   "execution_count": null,
   "id": "54916ff7-bc61-4b21-bcc8-061594a47156",
   "metadata": {},
   "outputs": [],
   "source": [
    "matrix = [[1, 2]]\n",
    "embed = Embedding(matrix)\n",
    "embed"
   ]
  },
  {
   "cell_type": "code",
   "execution_count": null,
   "id": "a04b2c01-7079-42c5-8ad4-330743cb40a5",
   "metadata": {},
   "outputs": [],
   "source": [
    "matrix = [[1], [2]]\n",
    "embed = Embedding(matrix)\n",
    "embed"
   ]
  },
  {
   "cell_type": "code",
   "execution_count": null,
   "id": "0aed6fcc-d6f8-41a1-a05f-2f376594a6c1",
   "metadata": {},
   "outputs": [],
   "source": [
    "matrix = [\n",
    "    [3, 1, 1, 4], \n",
    "    [3, 1, 1, 4],\n",
    "    [2, 2, 0, 4]\n",
    "]\n",
    "embed = Embedding(matrix)\n",
    "embed"
   ]
  },
  {
   "cell_type": "markdown",
   "id": "b09676ea-933f-465d-8c31-fc8cb8fc90b4",
   "metadata": {},
   "source": [
    "Bellow is an example of and Embedding with multiple widgets interacting between themselves:"
   ]
  },
  {
   "cell_type": "code",
   "execution_count": null,
   "id": "a58bde50-c358-41d8-81c0-aa9dc0700dca",
   "metadata": {},
   "outputs": [],
   "source": [
    "barplot4 = BarPlot(data=affairs, x='education', y='rating')\n",
    "histplot3 = HistogramPlot(data=affairs, x='education')\n",
    "scatterplot4 = ScatterPlot(data = affairs, x = 'age', y = 'yearsmarried', hue = \"children\")\n",
    "rangeSlider2 = RangeSlider(data=affairs, variable=\"age\", step=0.1, description=\"Age:\")\n",
    "\n",
    "def on_selected2(values):\n",
    "    barplot4.data = scatterplot4.selectedValues\n",
    "    histplot3.data = scatterplot4.selectedValues\n",
    "    \n",
    "scatterplot4.on_select_values(on_selected2)\n",
    "\n",
    "def on_values_changed2(values):\n",
    "    newData = affairs[affairs[\"age\"].between(\n",
    "        rangeSlider2.minValue, rangeSlider2.maxValue)]\n",
    "    scatterplot4.data = newData\n",
    "\n",
    "rangeSlider2.on_drag(on_values_changed2)\n",
    "\n",
    "matrix = [\n",
    "    [3, 3, 1, 1], \n",
    "    [3, 3, 1, 1],\n",
    "    [3, 3, 2, 2],\n",
    "    [4, 4, 2, 2]\n",
    "]\n",
    "embed2 = Embedding(matrix, style=\"neumorphism\")\n",
    "embed2.add(barplot4, 1)\n",
    "embed2.add(histplot3, 2)\n",
    "embed2.add(scatterplot4, 3)\n",
    "embed2.add(rangeSlider2, 4)\n",
    "\n",
    "embed2"
   ]
  }
 ],
 "metadata": {
  "kernelspec": {
   "display_name": "Python 3 (ipykernel)",
   "language": "python",
   "name": "python3"
  },
  "language_info": {
   "codemirror_mode": {
    "name": "ipython",
    "version": 3
   },
   "file_extension": ".py",
   "mimetype": "text/x-python",
   "name": "python",
   "nbconvert_exporter": "python",
   "pygments_lexer": "ipython3",
   "version": "3.11.9"
  }
 },
 "nbformat": 4,
 "nbformat_minor": 5
}
