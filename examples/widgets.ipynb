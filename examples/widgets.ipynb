{
 "cells": [
  {
   "cell_type": "markdown",
   "id": "eea13071-4071-465f-a202-97ec2edcbf2d",
   "metadata": {},
   "source": [
    "[![Open In Colab](https://colab.research.google.com/assets/colab-badge.svg)](https://colab.research.google.com/github/H-IAAC/d3vis_ipynb/blob/main/examples/widgets.ipynb)"
   ]
  },
  {
   "cell_type": "markdown",
   "id": "5d115a86-64a2-4b7d-a5a1-a34c2738a2a4",
   "metadata": {},
   "source": [
    "# Import Datasets"
   ]
  },
  {
   "cell_type": "code",
   "execution_count": 1,
   "id": "247eba0b-3f84-4c97-a5c1-423a6330c821",
   "metadata": {
    "jp-MarkdownHeadingCollapsed": true
   },
   "outputs": [
    {
     "data": {
      "text/html": [
       "<div>\n",
       "<style scoped>\n",
       "    .dataframe tbody tr th:only-of-type {\n",
       "        vertical-align: middle;\n",
       "    }\n",
       "\n",
       "    .dataframe tbody tr th {\n",
       "        vertical-align: top;\n",
       "    }\n",
       "\n",
       "    .dataframe thead th {\n",
       "        text-align: right;\n",
       "    }\n",
       "</style>\n",
       "<table border=\"1\" class=\"dataframe\">\n",
       "  <thead>\n",
       "    <tr style=\"text-align: right;\">\n",
       "      <th></th>\n",
       "      <th>Sepal.Length</th>\n",
       "      <th>Sepal.Width</th>\n",
       "      <th>Petal.Length</th>\n",
       "      <th>Petal.Width</th>\n",
       "      <th>Species</th>\n",
       "    </tr>\n",
       "  </thead>\n",
       "  <tbody>\n",
       "    <tr>\n",
       "      <th>0</th>\n",
       "      <td>5.1</td>\n",
       "      <td>3.5</td>\n",
       "      <td>1.4</td>\n",
       "      <td>0.2</td>\n",
       "      <td>setosa</td>\n",
       "    </tr>\n",
       "    <tr>\n",
       "      <th>1</th>\n",
       "      <td>4.9</td>\n",
       "      <td>3.0</td>\n",
       "      <td>1.4</td>\n",
       "      <td>0.2</td>\n",
       "      <td>setosa</td>\n",
       "    </tr>\n",
       "    <tr>\n",
       "      <th>2</th>\n",
       "      <td>4.7</td>\n",
       "      <td>3.2</td>\n",
       "      <td>1.3</td>\n",
       "      <td>0.2</td>\n",
       "      <td>setosa</td>\n",
       "    </tr>\n",
       "    <tr>\n",
       "      <th>3</th>\n",
       "      <td>4.6</td>\n",
       "      <td>3.1</td>\n",
       "      <td>1.5</td>\n",
       "      <td>0.2</td>\n",
       "      <td>setosa</td>\n",
       "    </tr>\n",
       "    <tr>\n",
       "      <th>4</th>\n",
       "      <td>5.0</td>\n",
       "      <td>3.6</td>\n",
       "      <td>1.4</td>\n",
       "      <td>0.2</td>\n",
       "      <td>setosa</td>\n",
       "    </tr>\n",
       "  </tbody>\n",
       "</table>\n",
       "</div>"
      ],
      "text/plain": [
       "   Sepal.Length  Sepal.Width  Petal.Length  Petal.Width Species\n",
       "0           5.1          3.5           1.4          0.2  setosa\n",
       "1           4.9          3.0           1.4          0.2  setosa\n",
       "2           4.7          3.2           1.3          0.2  setosa\n",
       "3           4.6          3.1           1.5          0.2  setosa\n",
       "4           5.0          3.6           1.4          0.2  setosa"
      ]
     },
     "execution_count": 1,
     "metadata": {},
     "output_type": "execute_result"
    }
   ],
   "source": [
    "import statsmodels.api as sm\n",
    "import ssl\n",
    "ssl._create_default_https_context = ssl._create_unverified_context\n",
    "iris = sm.datasets.get_rdataset('iris').data\n",
    "iris.head()"
   ]
  },
  {
   "cell_type": "code",
   "execution_count": 2,
   "id": "398bd51c-b52f-4284-8437-c19830cde8e5",
   "metadata": {},
   "outputs": [
    {
     "data": {
      "text/html": [
       "<div>\n",
       "<style scoped>\n",
       "    .dataframe tbody tr th:only-of-type {\n",
       "        vertical-align: middle;\n",
       "    }\n",
       "\n",
       "    .dataframe tbody tr th {\n",
       "        vertical-align: top;\n",
       "    }\n",
       "\n",
       "    .dataframe thead th {\n",
       "        text-align: right;\n",
       "    }\n",
       "</style>\n",
       "<table border=\"1\" class=\"dataframe\">\n",
       "  <thead>\n",
       "    <tr style=\"text-align: right;\">\n",
       "      <th></th>\n",
       "      <th>affairs</th>\n",
       "      <th>gender</th>\n",
       "      <th>age</th>\n",
       "      <th>yearsmarried</th>\n",
       "      <th>children</th>\n",
       "      <th>religiousness</th>\n",
       "      <th>education</th>\n",
       "      <th>occupation</th>\n",
       "      <th>rating</th>\n",
       "    </tr>\n",
       "    <tr>\n",
       "      <th>rownames</th>\n",
       "      <th></th>\n",
       "      <th></th>\n",
       "      <th></th>\n",
       "      <th></th>\n",
       "      <th></th>\n",
       "      <th></th>\n",
       "      <th></th>\n",
       "      <th></th>\n",
       "      <th></th>\n",
       "    </tr>\n",
       "  </thead>\n",
       "  <tbody>\n",
       "    <tr>\n",
       "      <th>4</th>\n",
       "      <td>0</td>\n",
       "      <td>male</td>\n",
       "      <td>37.0</td>\n",
       "      <td>10.00</td>\n",
       "      <td>no</td>\n",
       "      <td>3</td>\n",
       "      <td>18</td>\n",
       "      <td>7</td>\n",
       "      <td>4</td>\n",
       "    </tr>\n",
       "    <tr>\n",
       "      <th>5</th>\n",
       "      <td>0</td>\n",
       "      <td>female</td>\n",
       "      <td>27.0</td>\n",
       "      <td>4.00</td>\n",
       "      <td>no</td>\n",
       "      <td>4</td>\n",
       "      <td>14</td>\n",
       "      <td>6</td>\n",
       "      <td>4</td>\n",
       "    </tr>\n",
       "    <tr>\n",
       "      <th>11</th>\n",
       "      <td>0</td>\n",
       "      <td>female</td>\n",
       "      <td>32.0</td>\n",
       "      <td>15.00</td>\n",
       "      <td>yes</td>\n",
       "      <td>1</td>\n",
       "      <td>12</td>\n",
       "      <td>1</td>\n",
       "      <td>4</td>\n",
       "    </tr>\n",
       "    <tr>\n",
       "      <th>16</th>\n",
       "      <td>0</td>\n",
       "      <td>male</td>\n",
       "      <td>57.0</td>\n",
       "      <td>15.00</td>\n",
       "      <td>yes</td>\n",
       "      <td>5</td>\n",
       "      <td>18</td>\n",
       "      <td>6</td>\n",
       "      <td>5</td>\n",
       "    </tr>\n",
       "    <tr>\n",
       "      <th>23</th>\n",
       "      <td>0</td>\n",
       "      <td>male</td>\n",
       "      <td>22.0</td>\n",
       "      <td>0.75</td>\n",
       "      <td>no</td>\n",
       "      <td>2</td>\n",
       "      <td>17</td>\n",
       "      <td>6</td>\n",
       "      <td>3</td>\n",
       "    </tr>\n",
       "  </tbody>\n",
       "</table>\n",
       "</div>"
      ],
      "text/plain": [
       "          affairs  gender   age  yearsmarried children  religiousness  \\\n",
       "rownames                                                                \n",
       "4               0    male  37.0         10.00       no              3   \n",
       "5               0  female  27.0          4.00       no              4   \n",
       "11              0  female  32.0         15.00      yes              1   \n",
       "16              0    male  57.0         15.00      yes              5   \n",
       "23              0    male  22.0          0.75       no              2   \n",
       "\n",
       "          education  occupation  rating  \n",
       "rownames                                 \n",
       "4                18           7       4  \n",
       "5                14           6       4  \n",
       "11               12           1       4  \n",
       "16               18           6       5  \n",
       "23               17           6       3  "
      ]
     },
     "execution_count": 2,
     "metadata": {},
     "output_type": "execute_result"
    }
   ],
   "source": [
    "affairs = sm.datasets.get_rdataset('Affairs', 'AER').data\n",
    "affairs.head()"
   ]
  },
  {
   "cell_type": "markdown",
   "id": "36f97cef-5171-499f-ae06-7a61fc8cda2d",
   "metadata": {},
   "source": [
    "# Button"
   ]
  },
  {
   "cell_type": "markdown",
   "id": "566215d6-3e12-49c8-8ca7-b7e2f89c854a",
   "metadata": {},
   "source": [
    "A simple button.\n",
    "\n",
    "Parameters:\n",
    "- **description**: a string shown on top of the button\n",
    "- **disabled**: a boolean to disable or not\n",
    "\n",
    "Callbacks:\n",
    "- **on_click**: called when the button is clicked"
   ]
  },
  {
   "cell_type": "markdown",
   "id": "d43e3c46",
   "metadata": {},
   "source": []
  },
  {
   "cell_type": "code",
   "execution_count": 3,
   "id": "804ff129-5cbe-4a0b-9565-6fea88792cb1",
   "metadata": {},
   "outputs": [
    {
     "data": {
      "application/vnd.jupyter.widget-view+json": {
       "model_id": "81ff6909f3704330aa0e0abe68c908a3",
       "version_major": 2,
       "version_minor": 0
      },
      "text/plain": [
       "Button(description='Click me')"
      ]
     },
     "metadata": {},
     "output_type": "display_data"
    }
   ],
   "source": [
    "from d3vis_ipynb import Button\n",
    "button = Button(\n",
    "    description=\"Click me\",\n",
    "    disabled=False\n",
    ")\n",
    "\n",
    "i = 0\n",
    "def click(values):\n",
    "    global i\n",
    "    print(i) #Check logs\n",
    "    i += 1\n",
    "    \n",
    "button.on_click(click)\n",
    "button"
   ]
  },
  {
   "cell_type": "markdown",
   "id": "2ae6c69c",
   "metadata": {},
   "source": [
    "# Checkbox"
   ]
  },
  {
   "cell_type": "markdown",
   "id": "867aa007",
   "metadata": {},
   "source": [
    "A simple checkbox.\n",
    "\n",
    "Parameters:\n",
    "- **description**: a string shown on top of the checkbox\n",
    "- **disabled**: a boolean to disable or not\n",
    "\n",
    "Callbacks:\n",
    "- **observe**: called when the checkbox is checked"
   ]
  },
  {
   "cell_type": "code",
   "execution_count": 20,
   "id": "566a2e95",
   "metadata": {},
   "outputs": [
    {
     "data": {
      "application/vnd.jupyter.widget-view+json": {
       "model_id": "79fd840dd1ec43a49064ce6ea6c2ccb2",
       "version_major": 2,
       "version_minor": 0
      },
      "text/plain": [
       "Checkbox(description='Check me')"
      ]
     },
     "metadata": {},
     "output_type": "display_data"
    }
   ],
   "source": [
    "from d3vis_ipynb import Checkbox\n",
    "checkbox = Checkbox(\n",
    "    description=\"Check me\",\n",
    "    disabled=False\n",
    ")\n",
    "\n",
    "def check(change):\n",
    "    print(change['new'])  # Check logs\n",
    "    \n",
    "checkbox.observe(check)\n",
    "checkbox"
   ]
  },
  {
   "cell_type": "markdown",
   "id": "1dd56ca8-8c9b-41bd-b55c-80fba83ed70b",
   "metadata": {},
   "source": [
    "# Dropdown"
   ]
  },
  {
   "cell_type": "markdown",
   "id": "11922ada-8eed-4811-aa44-20aa304e0c5e",
   "metadata": {},
   "source": [
    "Generates a dropdown.\n",
    "\n",
    "Parameters:\n",
    "- **data**: a pandas' DataFrame\n",
    "- **variable**: a string representing which variable is going to get selected from data\n",
    "- **description**: the title of the slider (optional)\n",
    "- **options**: an array with the dropdown options\n",
    "- **value**: the selected value from options\n",
    "- **disabled**: a boolean to disable or not\n",
    "\n",
    "Callbacks:\n",
    "- **on_select**: called when the selected value is changed."
   ]
  },
  {
   "cell_type": "code",
   "execution_count": 5,
   "id": "9601a632-c991-40bb-9386-320a9fa1040c",
   "metadata": {},
   "outputs": [
    {
     "data": {
      "application/vnd.jupyter.widget-view+json": {
       "model_id": "963679ad2ca143398e7d8ce9d8bfbb3c",
       "version_major": 2,
       "version_minor": 0
      },
      "text/plain": [
       "Dropdown(description='A dropdown', options=['un', 'deux', 'trois'], value='deux')"
      ]
     },
     "metadata": {},
     "output_type": "display_data"
    }
   ],
   "source": [
    "from d3vis_ipynb import Dropdown\n",
    "\n",
    "dropdown = Dropdown(\n",
    "    description='A dropdown',\n",
    "    options=['un', 'deux', 'trois'],\n",
    "    value='deux'\n",
    ")\n",
    "\n",
    "def select(values):\n",
    "    print(dropdown.value) #Check logs\n",
    "\n",
    "dropdown.on_select(select)\n",
    "dropdown"
   ]
  },
  {
   "cell_type": "code",
   "execution_count": 6,
   "id": "7964262e-7185-42f0-8377-e4890264fb37",
   "metadata": {},
   "outputs": [
    {
     "data": {
      "application/vnd.jupyter.widget-view+json": {
       "model_id": "5c76a100e4334fb0a3aa1936fbfec242",
       "version_major": 2,
       "version_minor": 0
      },
      "text/plain": [
       "Dropdown(dataRecords=[{'Sepal.Length': 5.1, 'Sepal.Width': 3.5, 'Petal.Length': 1.4, 'Petal.Width': 0.2, 'Spec…"
      ]
     },
     "metadata": {},
     "output_type": "display_data"
    }
   ],
   "source": [
    "dropdown2 = Dropdown(\n",
    "    description='A dropdown',\n",
    "    data=iris,\n",
    "    variable=\"Species\"\n",
    ")\n",
    "\n",
    "dropdown2"
   ]
  },
  {
   "cell_type": "markdown",
   "id": "14551701-4e37-400e-89fa-6d1db94f64e7",
   "metadata": {},
   "source": [
    "# Input"
   ]
  },
  {
   "cell_type": "markdown",
   "id": "e96d9d6f-8415-4861-9961-d10e5ad63b9d",
   "metadata": {},
   "source": [
    "A simple input.\n",
    "\n",
    "Parameters:\n",
    "- **value**: a string shown inside the input \n",
    "- **placeholder**: a string shown when input is empty\n",
    "- **description**: a string shown on top of the button\n",
    "- **disabled**: a boolean to disable or not\n",
    "\n",
    "Callbacks:\n",
    "- **on_text_changed**: called when text inside input is changed. Change de value of *value*"
   ]
  },
  {
   "cell_type": "code",
   "execution_count": 7,
   "id": "1b28f077-6e64-424a-bfe7-fa2a8d9fc4c6",
   "metadata": {},
   "outputs": [
    {
     "data": {
      "application/vnd.jupyter.widget-view+json": {
       "model_id": "a3f1dc650dd44597b69052974fe41b26",
       "version_major": 2,
       "version_minor": 0
      },
      "text/plain": [
       "Input(description='An input', placeholder='Write something...', value='Hello world')"
      ]
     },
     "metadata": {},
     "output_type": "display_data"
    }
   ],
   "source": [
    "from d3vis_ipynb import Input\n",
    "\n",
    "input = Input(\n",
    "    value = \"Hello world\",\n",
    "    placeholder = \"Write something...\",\n",
    "    description = \"An input\",\n",
    "    disabled = False\n",
    ")\n",
    "\n",
    "i = 0\n",
    "def print_values(values):\n",
    "    print(input.value) #Check logs\n",
    "\n",
    "input.on_text_changed(print_values)\n",
    "input"
   ]
  },
  {
   "cell_type": "markdown",
   "id": "a526916f-59b8-471d-b593-e83c69d24a19",
   "metadata": {},
   "source": [
    "# RangeSlider"
   ]
  },
  {
   "cell_type": "markdown",
   "id": "6f347f4e-911c-492d-b003-a7eac667b397",
   "metadata": {},
   "source": [
    "Generates range slider.\n",
    "\n",
    "Parameters:\n",
    "- **data**: a pandas' DataFrame\n",
    "- **variable**: a string representing which variable is going to get selected from data\n",
    "- **step**: a number representing the step distance when draging the slider (optional)\n",
    "- **description**: the title of the slider (optional)\n",
    "\n",
    "Properties:\n",
    "- **fromValue**: (float) shows where the left slider is\n",
    "- **toValue**: (float) shows where the right slider is\n",
    "- **minValue**: (float) minimal value for slider\n",
    "- **maxValue**: (float) maximal value for slider\n",
    "\n",
    "Callbacks:\n",
    "- **on_drag**: called when the slider is draged. Change the value of *fromValue* and *maxValue*"
   ]
  },
  {
   "cell_type": "code",
   "execution_count": 8,
   "id": "0e855c80-a159-4049-9a36-9d553e499934",
   "metadata": {},
   "outputs": [
    {
     "data": {
      "application/vnd.jupyter.widget-view+json": {
       "model_id": "bb62a468a586438883db7513d8f8dde8",
       "version_major": 2,
       "version_minor": 0
      },
      "text/plain": [
       "RangeSlider(dataRecords=[{'Sepal.Length': 5.1, 'Sepal.Width': 3.5, 'Petal.Length': 1.4, 'Petal.Width': 0.2, 'S…"
      ]
     },
     "metadata": {},
     "output_type": "display_data"
    }
   ],
   "source": [
    "from d3vis_ipynb import ScatterPlot, RangeSlider\n",
    "rangeSlider = RangeSlider(data=iris, variable=\"Sepal.Length\", step=0.1, description=\"Sepal Length:\")\n",
    "scatterplot = ScatterPlot(data = iris, x = 'Sepal.Length', y = 'Sepal.Width', hue = \"Species\")\n",
    "\n",
    "def on_values_changed(values):\n",
    "    newData = iris[iris[\"Sepal.Length\"].between(\n",
    "        rangeSlider.fromValue, rangeSlider.toValue)]\n",
    "    scatterplot.data = newData\n",
    "\n",
    "rangeSlider.on_drag(on_values_changed)\n",
    "rangeSlider"
   ]
  },
  {
   "cell_type": "markdown",
   "id": "eb18012c-f2ab-4702-81f6-10227b2b0687",
   "metadata": {},
   "source": [
    "Drag the slider and see the changes bellow:"
   ]
  },
  {
   "cell_type": "code",
   "execution_count": 9,
   "id": "12331dd9-4325-4973-a90c-8af10ce9cad4",
   "metadata": {},
   "outputs": [
    {
     "data": {
      "application/vnd.jupyter.widget-view+json": {
       "model_id": "dd29387bc37c47bd84003b11ce050a6a",
       "version_major": 2,
       "version_minor": 0
      },
      "text/plain": [
       "ScatterPlot(dataRecords=[{'Sepal.Length': 5.1, 'Sepal.Width': 3.5, 'Petal.Length': 1.4, 'Petal.Width': 0.2, 'S…"
      ]
     },
     "metadata": {},
     "output_type": "display_data"
    }
   ],
   "source": [
    "scatterplot"
   ]
  },
  {
   "cell_type": "markdown",
   "id": "420f3edf-164c-4e71-a823-abe5431014a7",
   "metadata": {},
   "source": [
    "# Text"
   ]
  },
  {
   "cell_type": "markdown",
   "id": "a162737b-4875-4363-bf44-2025e597a4f1",
   "metadata": {},
   "source": [
    "A simple text.\n",
    "\n",
    "Parameters:\n",
    "- **value**: a string shown inside the input\n",
    "- **placeholder**: a string shown when input is empty"
   ]
  },
  {
   "cell_type": "code",
   "execution_count": 10,
   "id": "448a065f-9ba9-45ca-836e-b902cf680d09",
   "metadata": {},
   "outputs": [
    {
     "data": {
      "application/vnd.jupyter.widget-view+json": {
       "model_id": "e3395f5050ce4770ad0116dc03d6c035",
       "version_major": 2,
       "version_minor": 0
      },
      "text/plain": [
       "Text(description='A text', value='Hello world')"
      ]
     },
     "metadata": {},
     "output_type": "display_data"
    }
   ],
   "source": [
    "from d3vis_ipynb import Text\n",
    "\n",
    "text = Text(\n",
    "    value = \"Hello world\",\n",
    "    description = \"A text\",\n",
    ")\n",
    "\n",
    "text"
   ]
  },
  {
   "cell_type": "markdown",
   "id": "66e6ee11-8c55-4602-82f9-ba2a5430db88",
   "metadata": {},
   "source": [
    "# TextArea"
   ]
  },
  {
   "cell_type": "markdown",
   "id": "dce85184-2ab5-41ca-a698-297663f54549",
   "metadata": {},
   "source": [
    "A simple textArea.\n",
    "\n",
    "Parameters:\n",
    "- **value**: a string shown inside the input\n",
    "- **placeholder**: a string shown when input is empty\n",
    "- **description**: a string shown on top of the button\n",
    "- **disabled**: a boolean to disable or not\n",
    "\n",
    "Callbacks:\n",
    "- **on_text_changed**: called when text inside input is changed. Change de value of *value*"
   ]
  },
  {
   "cell_type": "code",
   "execution_count": 11,
   "id": "0b96beef-91b7-483c-b8d2-10009cfc52fd",
   "metadata": {},
   "outputs": [
    {
     "data": {
      "application/vnd.jupyter.widget-view+json": {
       "model_id": "d3c2df77f8694ac4b537bac62552466f",
       "version_major": 2,
       "version_minor": 0
      },
      "text/plain": [
       "TextArea(description='A text area', placeholder='Write something...', value='Hello world')"
      ]
     },
     "metadata": {},
     "output_type": "display_data"
    }
   ],
   "source": [
    "from d3vis_ipynb import TextArea\n",
    "\n",
    "textArea = TextArea(\n",
    "    value = \"Hello world\",\n",
    "    placeholder = \"Write something...\",\n",
    "    description = \"A text area\",\n",
    "    disabled = False\n",
    ")\n",
    "\n",
    "i = 0\n",
    "def print_values2(values):\n",
    "    print(textArea.value) #Check logs\n",
    "\n",
    "textArea.on_text_changed(print_values2)\n",
    "textArea"
   ]
  }
 ],
 "metadata": {
  "kernelspec": {
   "display_name": "Python 3 (ipykernel)",
   "language": "python",
   "name": "python3"
  },
  "language_info": {
   "codemirror_mode": {
    "name": "ipython",
    "version": 3
   },
   "file_extension": ".py",
   "mimetype": "text/x-python",
   "name": "python",
   "nbconvert_exporter": "python",
   "pygments_lexer": "ipython3",
   "version": "3.9.0"
  }
 },
 "nbformat": 4,
 "nbformat_minor": 5
}
