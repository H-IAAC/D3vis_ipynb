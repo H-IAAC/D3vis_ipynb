{
 "cells": [
  {
   "cell_type": "markdown",
   "id": "eea13071-4071-465f-a202-97ec2edcbf2d",
   "metadata": {},
   "source": [
    "[![Open In Colab](https://colab.research.google.com/assets/colab-badge.svg)](https://colab.research.google.com/github/H-IAAC/d3vis_ipynb/blob/main/examples/widgets.ipynb)"
   ]
  },
  {
   "cell_type": "markdown",
   "id": "5d115a86-64a2-4b7d-a5a1-a34c2738a2a4",
   "metadata": {},
   "source": [
    "# Import Datasets"
   ]
  },
  {
   "cell_type": "code",
   "execution_count": null,
   "id": "247eba0b-3f84-4c97-a5c1-423a6330c821",
   "metadata": {
    "jp-MarkdownHeadingCollapsed": true
   },
   "outputs": [],
   "source": [
    "import statsmodels.api as sm\n",
    "import ssl\n",
    "ssl._create_default_https_context = ssl._create_unverified_context\n",
    "iris = sm.datasets.get_rdataset('iris').data\n",
    "iris.head()"
   ]
  },
  {
   "cell_type": "code",
   "execution_count": null,
   "id": "398bd51c-b52f-4284-8437-c19830cde8e5",
   "metadata": {},
   "outputs": [],
   "source": [
    "affairs = sm.datasets.get_rdataset('Affairs', 'AER').data\n",
    "affairs.head()"
   ]
  },
  {
   "cell_type": "markdown",
   "id": "36f97cef-5171-499f-ae06-7a61fc8cda2d",
   "metadata": {},
   "source": [
    "# Button"
   ]
  },
  {
   "cell_type": "markdown",
   "id": "566215d6-3e12-49c8-8ca7-b7e2f89c854a",
   "metadata": {},
   "source": [
    "A simple button.\n",
    "\n",
    "Parameters:\n",
    "- **description**: a string shown on top of the button\n",
    "- **disabled**: a boolean to disable or not\n",
    "\n",
    "Callbacks:\n",
    "- **on_click**: called when the button is clicked"
   ]
  },
  {
   "cell_type": "code",
   "execution_count": null,
   "id": "804ff129-5cbe-4a0b-9565-6fea88792cb1",
   "metadata": {},
   "outputs": [],
   "source": [
    "from d3vis_ipynb import Button\n",
    "button = Button(\n",
    "    description=\"Click me\",\n",
    "    disabled=False\n",
    ")\n",
    "\n",
    "i = 0\n",
    "def click(values):\n",
    "    global i\n",
    "    print(i) #Check logs\n",
    "    i += 1\n",
    "    \n",
    "button.on_click(click)\n",
    "button"
   ]
  },
  {
   "cell_type": "markdown",
   "id": "14551701-4e37-400e-89fa-6d1db94f64e7",
   "metadata": {},
   "source": [
    "# Input"
   ]
  },
  {
   "cell_type": "markdown",
   "id": "e96d9d6f-8415-4861-9961-d10e5ad63b9d",
   "metadata": {},
   "source": [
    "A simple input.\n",
    "\n",
    "Parameters:\n",
    "- **value**: a string shown inside the input \n",
    "- **placeholder**: a string shown when input is empty\n",
    "- **description**: a string shown on top of the button\n",
    "- **disabled**: a boolean to disable or not\n",
    "\n",
    "Callbacks:\n",
    "- **on_text_changed**: called when text inside input is changed. Change de value of *value*"
   ]
  },
  {
   "cell_type": "code",
   "execution_count": null,
   "id": "1b28f077-6e64-424a-bfe7-fa2a8d9fc4c6",
   "metadata": {},
   "outputs": [],
   "source": [
    "from d3vis_ipynb import Input\n",
    "\n",
    "input = Input(\n",
    "    value = \"Hello world\",\n",
    "    placeholder = \"Write something...\",\n",
    "    description = \"An input\",\n",
    "    disabled = False\n",
    ")\n",
    "\n",
    "i = 0\n",
    "def print_values(values):\n",
    "    print(input.value) #Check logs\n",
    "\n",
    "input.on_text_changed(print_values)\n",
    "input"
   ]
  },
  {
   "cell_type": "markdown",
   "id": "a526916f-59b8-471d-b593-e83c69d24a19",
   "metadata": {},
   "source": [
    "# RangeSlider"
   ]
  },
  {
   "cell_type": "markdown",
   "id": "6f347f4e-911c-492d-b003-a7eac667b397",
   "metadata": {},
   "source": [
    "Generates range slider.\n",
    "\n",
    "Parameters:\n",
    "- **data**: a pandas' DataFrame\n",
    "- **variable**: a string representing which variable is going to get selected from data\n",
    "- **step**: a number representing the step distance when draging the slider (optional)\n",
    "- **description**: the title of the slider (optional)\n",
    "\n",
    "Properties:\n",
    "- **fromValue**: (float) shows where the left slider is\n",
    "- **toValue**: (float) shows where the right slider is\n",
    "- **minValue**: (float) minimal value for slider\n",
    "- **maxValue**: (float) maximal value for slider\n",
    "\n",
    "Callbacks:\n",
    "- **on_drag**: called when the slider is draged. Change the value of *fromValue* and *maxValue*"
   ]
  },
  {
   "cell_type": "code",
   "execution_count": null,
   "id": "0e855c80-a159-4049-9a36-9d553e499934",
   "metadata": {},
   "outputs": [],
   "source": [
    "from d3vis_ipynb import ScatterPlot, RangeSlider\n",
    "rangeSlider = RangeSlider(data=iris, variable=\"Sepal.Length\", step=0.1, description=\"Sepal Length:\")\n",
    "scatterplot = ScatterPlot(data = iris, x = 'Sepal.Length', y = 'Sepal.Width', hue = \"Species\")\n",
    "\n",
    "def on_values_changed(values):\n",
    "    newData = iris[iris[\"Sepal.Length\"].between(\n",
    "        rangeSlider.fromValue, rangeSlider.toValue)]\n",
    "    scatterplot.data = newData\n",
    "\n",
    "rangeSlider.on_drag(on_values_changed)\n",
    "rangeSlider"
   ]
  },
  {
   "cell_type": "markdown",
   "id": "eb18012c-f2ab-4702-81f6-10227b2b0687",
   "metadata": {},
   "source": [
    "Drag the slider and see the changes bellow:"
   ]
  },
  {
   "cell_type": "code",
   "execution_count": null,
   "id": "12331dd9-4325-4973-a90c-8af10ce9cad4",
   "metadata": {},
   "outputs": [],
   "source": [
    "scatterplot"
   ]
  },
  {
   "cell_type": "markdown",
   "id": "420f3edf-164c-4e71-a823-abe5431014a7",
   "metadata": {},
   "source": [
    "# Text"
   ]
  },
  {
   "cell_type": "markdown",
   "id": "a162737b-4875-4363-bf44-2025e597a4f1",
   "metadata": {},
   "source": [
    "A simple text.\n",
    "\n",
    "Parameters:\n",
    "- **value**: a string shown inside the input\n",
    "- **placeholder**: a string shown when input is empty"
   ]
  },
  {
   "cell_type": "code",
   "execution_count": null,
   "id": "448a065f-9ba9-45ca-836e-b902cf680d09",
   "metadata": {},
   "outputs": [],
   "source": [
    "from d3vis_ipynb import Text\n",
    "\n",
    "text = Text(\n",
    "    value = \"Hello world\",\n",
    "    description = \"A text\",\n",
    ")\n",
    "\n",
    "text"
   ]
  },
  {
   "cell_type": "markdown",
   "id": "66e6ee11-8c55-4602-82f9-ba2a5430db88",
   "metadata": {},
   "source": [
    "# TextArea"
   ]
  },
  {
   "cell_type": "markdown",
   "id": "dce85184-2ab5-41ca-a698-297663f54549",
   "metadata": {},
   "source": [
    "A simple textArea.\n",
    "\n",
    "Parameters:\n",
    "- **value**: a string shown inside the input\n",
    "- **placeholder**: a string shown when input is empty\n",
    "- **description**: a string shown on top of the button\n",
    "- **disabled**: a boolean to disable or not\n",
    "\n",
    "Callbacks:\n",
    "- **on_text_changed**: called when text inside input is changed. Change de value of *value*"
   ]
  },
  {
   "cell_type": "code",
   "execution_count": null,
   "id": "0b96beef-91b7-483c-b8d2-10009cfc52fd",
   "metadata": {},
   "outputs": [],
   "source": [
    "from d3vis_ipynb import TextArea\n",
    "\n",
    "textArea = TextArea(\n",
    "    value = \"Hello world\",\n",
    "    placeholder = \"Write something...\",\n",
    "    description = \"A text area\",\n",
    "    disabled = False\n",
    ")\n",
    "\n",
    "i = 0\n",
    "def print_values2(values):\n",
    "    print(textArea.value) #Check logs\n",
    "\n",
    "textArea.on_text_changed(print_values2)\n",
    "textArea"
   ]
  }
 ],
 "metadata": {
  "kernelspec": {
   "display_name": "Python 3 (ipykernel)",
   "language": "python",
   "name": "python3"
  },
  "language_info": {
   "codemirror_mode": {
    "name": "ipython",
    "version": 3
   },
   "file_extension": ".py",
   "mimetype": "text/x-python",
   "name": "python",
   "nbconvert_exporter": "python",
   "pygments_lexer": "ipython3",
   "version": "3.11.9"
  }
 },
 "nbformat": 4,
 "nbformat_minor": 5
}
