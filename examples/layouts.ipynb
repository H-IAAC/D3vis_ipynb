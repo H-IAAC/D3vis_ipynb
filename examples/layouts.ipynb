{
 "cells": [
  {
   "cell_type": "markdown",
   "id": "eea13071-4071-465f-a202-97ec2edcbf2d",
   "metadata": {},
   "source": [
    "[![Open In Colab](https://colab.research.google.com/assets/colab-badge.svg)](https://colab.research.google.com/github/H-IAAC/d3vis_ipynb/blob/main/examples/layouts.ipynb)"
   ]
  },
  {
   "cell_type": "markdown",
   "id": "5d115a86-64a2-4b7d-a5a1-a34c2738a2a4",
   "metadata": {},
   "source": [
    "# Import Datasets"
   ]
  },
  {
   "cell_type": "code",
   "execution_count": null,
   "id": "247eba0b-3f84-4c97-a5c1-423a6330c821",
   "metadata": {
    "jp-MarkdownHeadingCollapsed": true
   },
   "outputs": [],
   "source": [
    "import statsmodels.api as sm\n",
    "import ssl\n",
    "ssl._create_default_https_context = ssl._create_unverified_context\n",
    "iris = sm.datasets.get_rdataset('iris').data\n",
    "iris.head()"
   ]
  },
  {
   "cell_type": "code",
   "execution_count": null,
   "id": "398bd51c-b52f-4284-8437-c19830cde8e5",
   "metadata": {},
   "outputs": [],
   "source": [
    "affairs = sm.datasets.get_rdataset('Affairs', 'AER').data\n",
    "affairs.head()"
   ]
  },
  {
   "cell_type": "markdown",
   "id": "7a3f2282-1893-4860-9cab-9b80f34a1146",
   "metadata": {},
   "source": [
    "# MatrixLayout"
   ]
  },
  {
   "cell_type": "markdown",
   "id": "19aecdd1-37c0-4c76-9a5a-f03121cf0dde",
   "metadata": {},
   "source": [
    "A layout to position different widgets in a single cell.\n",
    "\n",
    "Parameters:\n",
    "- **matrix**: a list of lists that represents the format of the layout\n",
    "- **style**: a string containing which style the MatrixLayout is going to be rendered in (optional). Possible values are: *basic, dark, glassmorphism, neumorphism* and *minimalism*\n",
    "\n",
    "Functions:\n",
    "- **add(widget, position)**: add a widget to a certain position in the matrix\n",
    "\n",
    "Matrix rules:\n",
    "- it must contain only sequential integers\n",
    "- the repeated numbers must form squares or rectangles on the rows and columns of the matrix and no other shapes\n",
    "- there can't be more than one shape with a certain number\n",
    "- All rows must have the same size\n",
    "\n",
    "See the examples bellow:"
   ]
  },
  {
   "cell_type": "code",
   "execution_count": null,
   "id": "54916ff7-bc61-4b21-bcc8-061594a47156",
   "metadata": {},
   "outputs": [],
   "source": [
    "from d3vis_ipynb import BarPlot, HistogramPlot, ScatterPlot, LinearPlot, RangeSlider, MatrixLayout\n",
    "matrix = [[1, 2]]\n",
    "matrixLayout = MatrixLayout(matrix)\n",
    "matrixLayout"
   ]
  },
  {
   "cell_type": "code",
   "execution_count": null,
   "id": "a04b2c01-7079-42c5-8ad4-330743cb40a5",
   "metadata": {},
   "outputs": [],
   "source": [
    "matrix = [[1], [2]]\n",
    "matrixLayout = MatrixLayout(matrix)\n",
    "matrixLayout"
   ]
  },
  {
   "cell_type": "code",
   "execution_count": null,
   "id": "0aed6fcc-d6f8-41a1-a05f-2f376594a6c1",
   "metadata": {},
   "outputs": [],
   "source": [
    "matrix = [\n",
    "    [3, 1, 1, 4], \n",
    "    [3, 1, 1, 4],\n",
    "    [2, 2, 0, 4]\n",
    "]\n",
    "matrixLayout = MatrixLayout(matrix)\n",
    "matrixLayout"
   ]
  },
  {
   "cell_type": "markdown",
   "id": "b09676ea-933f-465d-8c31-fc8cb8fc90b4",
   "metadata": {},
   "source": [
    "Bellow is an example of and MatrixLayout with multiple widgets interacting between themselves:"
   ]
  },
  {
   "cell_type": "code",
   "execution_count": null,
   "id": "a58bde50-c358-41d8-81c0-aa9dc0700dca",
   "metadata": {},
   "outputs": [],
   "source": [
    "barplot = BarPlot(data=affairs, x='education', y='rating')\n",
    "histplot = HistogramPlot(data=affairs, x='education')\n",
    "scatterplot = ScatterPlot(data = affairs, x = 'age', y = 'yearsmarried', hue = \"children\")\n",
    "rangeSlider = RangeSlider(data=affairs, variable=\"age\", step=0.1, description=\"Age:\")\n",
    "\n",
    "def on_selected(values):\n",
    "    barplot.data = scatterplot.selectedValues\n",
    "    histplot.data = scatterplot.selectedValues\n",
    "    \n",
    "scatterplot.on_select_values(on_selected)\n",
    "\n",
    "def on_values_changed(values):\n",
    "    newData = affairs[affairs[\"age\"].between(\n",
    "        rangeSlider.fromValue, rangeSlider.toValue)]\n",
    "    scatterplot.data = newData\n",
    "\n",
    "rangeSlider.on_drag(on_values_changed)\n",
    "\n",
    "matrix = [\n",
    "    [3, 3, 1, 1], \n",
    "    [3, 3, 1, 1],\n",
    "    [3, 3, 2, 2],\n",
    "    [4, 4, 2, 2]\n",
    "]\n",
    "matrixLayout = MatrixLayout(matrix, style=\"neumorphism\")\n",
    "matrixLayout.add(barplot, 1)\n",
    "matrixLayout.add(histplot, 2)\n",
    "matrixLayout.add(scatterplot, 3)\n",
    "matrixLayout.add(rangeSlider, 4)\n",
    "\n",
    "matrixLayout"
   ]
  }
 ],
 "metadata": {
  "kernelspec": {
   "display_name": "Python 3 (ipykernel)",
   "language": "python",
   "name": "python3"
  },
  "language_info": {
   "codemirror_mode": {
    "name": "ipython",
    "version": 3
   },
   "file_extension": ".py",
   "mimetype": "text/x-python",
   "name": "python",
   "nbconvert_exporter": "python",
   "pygments_lexer": "ipython3",
   "version": "3.11.9"
  }
 },
 "nbformat": 4,
 "nbformat_minor": 5
}
