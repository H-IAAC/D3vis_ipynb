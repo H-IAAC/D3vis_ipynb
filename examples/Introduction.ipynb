{
 "cells": [
  {
   "cell_type": "code",
   "execution_count": 1,
   "id": "107e2860-41a9-4a52-9434-7f207bcdef3a",
   "metadata": {
    "editable": true,
    "slideshow": {
     "slide_type": ""
    },
    "tags": []
   },
   "outputs": [],
   "source": [
    "import pandas as pd\n",
    "import seaborn as sns\n",
    "import matplotlib.pyplot as plt\n",
    "import numpy as np"
   ]
  },
  {
   "cell_type": "code",
   "execution_count": 2,
   "id": "7260e570-be95-447d-89b8-7c365f7e4393",
   "metadata": {},
   "outputs": [
    {
     "data": {
      "text/html": [
       "<div>\n",
       "<style scoped>\n",
       "    .dataframe tbody tr th:only-of-type {\n",
       "        vertical-align: middle;\n",
       "    }\n",
       "\n",
       "    .dataframe tbody tr th {\n",
       "        vertical-align: top;\n",
       "    }\n",
       "\n",
       "    .dataframe thead th {\n",
       "        text-align: right;\n",
       "    }\n",
       "</style>\n",
       "<table border=\"1\" class=\"dataframe\">\n",
       "  <thead>\n",
       "    <tr style=\"text-align: right;\">\n",
       "      <th></th>\n",
       "      <th>Age</th>\n",
       "      <th>Sex</th>\n",
       "      <th>Job</th>\n",
       "      <th>Housing</th>\n",
       "      <th>Saving accounts</th>\n",
       "      <th>Checking account</th>\n",
       "      <th>Credit amount</th>\n",
       "      <th>Duration</th>\n",
       "      <th>Purpose</th>\n",
       "      <th>Risk</th>\n",
       "    </tr>\n",
       "  </thead>\n",
       "  <tbody>\n",
       "    <tr>\n",
       "      <th>0</th>\n",
       "      <td>67</td>\n",
       "      <td>male</td>\n",
       "      <td>2</td>\n",
       "      <td>own</td>\n",
       "      <td>NaN</td>\n",
       "      <td>little</td>\n",
       "      <td>1169</td>\n",
       "      <td>6</td>\n",
       "      <td>radio/TV</td>\n",
       "      <td>good</td>\n",
       "    </tr>\n",
       "    <tr>\n",
       "      <th>1</th>\n",
       "      <td>22</td>\n",
       "      <td>female</td>\n",
       "      <td>2</td>\n",
       "      <td>own</td>\n",
       "      <td>little</td>\n",
       "      <td>moderate</td>\n",
       "      <td>5951</td>\n",
       "      <td>48</td>\n",
       "      <td>radio/TV</td>\n",
       "      <td>bad</td>\n",
       "    </tr>\n",
       "    <tr>\n",
       "      <th>2</th>\n",
       "      <td>49</td>\n",
       "      <td>male</td>\n",
       "      <td>1</td>\n",
       "      <td>own</td>\n",
       "      <td>little</td>\n",
       "      <td>NaN</td>\n",
       "      <td>2096</td>\n",
       "      <td>12</td>\n",
       "      <td>education</td>\n",
       "      <td>good</td>\n",
       "    </tr>\n",
       "    <tr>\n",
       "      <th>3</th>\n",
       "      <td>45</td>\n",
       "      <td>male</td>\n",
       "      <td>2</td>\n",
       "      <td>free</td>\n",
       "      <td>little</td>\n",
       "      <td>little</td>\n",
       "      <td>7882</td>\n",
       "      <td>42</td>\n",
       "      <td>furniture/equipment</td>\n",
       "      <td>good</td>\n",
       "    </tr>\n",
       "    <tr>\n",
       "      <th>4</th>\n",
       "      <td>53</td>\n",
       "      <td>male</td>\n",
       "      <td>2</td>\n",
       "      <td>free</td>\n",
       "      <td>little</td>\n",
       "      <td>little</td>\n",
       "      <td>4870</td>\n",
       "      <td>24</td>\n",
       "      <td>car</td>\n",
       "      <td>bad</td>\n",
       "    </tr>\n",
       "    <tr>\n",
       "      <th>...</th>\n",
       "      <td>...</td>\n",
       "      <td>...</td>\n",
       "      <td>...</td>\n",
       "      <td>...</td>\n",
       "      <td>...</td>\n",
       "      <td>...</td>\n",
       "      <td>...</td>\n",
       "      <td>...</td>\n",
       "      <td>...</td>\n",
       "      <td>...</td>\n",
       "    </tr>\n",
       "    <tr>\n",
       "      <th>995</th>\n",
       "      <td>31</td>\n",
       "      <td>female</td>\n",
       "      <td>1</td>\n",
       "      <td>own</td>\n",
       "      <td>little</td>\n",
       "      <td>NaN</td>\n",
       "      <td>1736</td>\n",
       "      <td>12</td>\n",
       "      <td>furniture/equipment</td>\n",
       "      <td>good</td>\n",
       "    </tr>\n",
       "    <tr>\n",
       "      <th>996</th>\n",
       "      <td>40</td>\n",
       "      <td>male</td>\n",
       "      <td>3</td>\n",
       "      <td>own</td>\n",
       "      <td>little</td>\n",
       "      <td>little</td>\n",
       "      <td>3857</td>\n",
       "      <td>30</td>\n",
       "      <td>car</td>\n",
       "      <td>good</td>\n",
       "    </tr>\n",
       "    <tr>\n",
       "      <th>997</th>\n",
       "      <td>38</td>\n",
       "      <td>male</td>\n",
       "      <td>2</td>\n",
       "      <td>own</td>\n",
       "      <td>little</td>\n",
       "      <td>NaN</td>\n",
       "      <td>804</td>\n",
       "      <td>12</td>\n",
       "      <td>radio/TV</td>\n",
       "      <td>good</td>\n",
       "    </tr>\n",
       "    <tr>\n",
       "      <th>998</th>\n",
       "      <td>23</td>\n",
       "      <td>male</td>\n",
       "      <td>2</td>\n",
       "      <td>free</td>\n",
       "      <td>little</td>\n",
       "      <td>little</td>\n",
       "      <td>1845</td>\n",
       "      <td>45</td>\n",
       "      <td>radio/TV</td>\n",
       "      <td>bad</td>\n",
       "    </tr>\n",
       "    <tr>\n",
       "      <th>999</th>\n",
       "      <td>27</td>\n",
       "      <td>male</td>\n",
       "      <td>2</td>\n",
       "      <td>own</td>\n",
       "      <td>moderate</td>\n",
       "      <td>moderate</td>\n",
       "      <td>4576</td>\n",
       "      <td>45</td>\n",
       "      <td>car</td>\n",
       "      <td>good</td>\n",
       "    </tr>\n",
       "  </tbody>\n",
       "</table>\n",
       "<p>1000 rows × 10 columns</p>\n",
       "</div>"
      ],
      "text/plain": [
       "     Age     Sex  Job Housing Saving accounts Checking account  Credit amount  \\\n",
       "0     67    male    2     own             NaN           little           1169   \n",
       "1     22  female    2     own          little         moderate           5951   \n",
       "2     49    male    1     own          little              NaN           2096   \n",
       "3     45    male    2    free          little           little           7882   \n",
       "4     53    male    2    free          little           little           4870   \n",
       "..   ...     ...  ...     ...             ...              ...            ...   \n",
       "995   31  female    1     own          little              NaN           1736   \n",
       "996   40    male    3     own          little           little           3857   \n",
       "997   38    male    2     own          little              NaN            804   \n",
       "998   23    male    2    free          little           little           1845   \n",
       "999   27    male    2     own        moderate         moderate           4576   \n",
       "\n",
       "     Duration              Purpose  Risk  \n",
       "0           6             radio/TV  good  \n",
       "1          48             radio/TV   bad  \n",
       "2          12            education  good  \n",
       "3          42  furniture/equipment  good  \n",
       "4          24                  car   bad  \n",
       "..        ...                  ...   ...  \n",
       "995        12  furniture/equipment  good  \n",
       "996        30                  car  good  \n",
       "997        12             radio/TV  good  \n",
       "998        45             radio/TV   bad  \n",
       "999        45                  car  good  \n",
       "\n",
       "[1000 rows x 10 columns]"
      ]
     },
     "execution_count": 2,
     "metadata": {},
     "output_type": "execute_result"
    }
   ],
   "source": [
    "df = pd.read_csv(\"data/german/german_credit_data.csv\",index_col=0)\n",
    "df"
   ]
  },
  {
   "cell_type": "markdown",
   "id": "33e0b3da-64e4-4c99-af47-8abbadb38187",
   "metadata": {},
   "source": [
    "<b>Age </b>(numeric)<br>\n",
    "<b>Sex </b>(text: male, female)<br>\n",
    "<b>Job </b>(numeric: 0 - unskilled and non-resident, 1 - unskilled and resident, 2 - skilled, 3 - highly skilled)<br>\n",
    "<b>Housing</b> (text: own, rent, or free)<br>\n",
    "<b>Saving accounts</b> (text - little, moderate, quite rich, rich)<br>\n",
    "<b>Checking account </b>(numeric, in DM - Deutsch Mark)<br>\n",
    "<b>Credit amount</b> (numeric, in DM)<br>\n",
    "<b>Duration</b> (numeric, in month)<br>\n",
    "<b>Purpose</b>(text: car, furniture/equipment, radio/TV, domestic appliances, repairs, education, business, vacation/others<br>\n",
    "<b>Risk </b> (Value target - Good or Bad Risk)<br>"
   ]
  },
  {
   "cell_type": "markdown",
   "id": "163d74e6-2a08-4805-88b4-5dab41141614",
   "metadata": {},
   "source": [
    "# Análise exploratória de dados"
   ]
  },
  {
   "cell_type": "code",
   "execution_count": 3,
   "id": "1e620796-a3c0-4f1f-a8bd-95b80926c766",
   "metadata": {},
   "outputs": [
    {
     "name": "stdout",
     "output_type": "stream",
     "text": [
      "<class 'pandas.core.frame.DataFrame'>\n",
      "Index: 1000 entries, 0 to 999\n",
      "Data columns (total 10 columns):\n",
      " #   Column            Non-Null Count  Dtype \n",
      "---  ------            --------------  ----- \n",
      " 0   Age               1000 non-null   int64 \n",
      " 1   Sex               1000 non-null   object\n",
      " 2   Job               1000 non-null   int64 \n",
      " 3   Housing           1000 non-null   object\n",
      " 4   Saving accounts   817 non-null    object\n",
      " 5   Checking account  606 non-null    object\n",
      " 6   Credit amount     1000 non-null   int64 \n",
      " 7   Duration          1000 non-null   int64 \n",
      " 8   Purpose           1000 non-null   object\n",
      " 9   Risk              1000 non-null   object\n",
      "dtypes: int64(4), object(6)\n",
      "memory usage: 85.9+ KB\n"
     ]
    }
   ],
   "source": [
    "df.info()"
   ]
  },
  {
   "cell_type": "markdown",
   "id": "79015cee-276b-4d73-afc4-1afc2388bde8",
   "metadata": {},
   "source": [
    "Somente \"Saving accounts\" e \"Checking account\" Possuem valores nulos. Para não remover estas colunas nem as linhas com os valores nulos, vamos substituir os valores nulos por \"no_info\":"
   ]
  },
  {
   "cell_type": "code",
   "execution_count": 4,
   "id": "4787f6e9-0be7-455b-8262-452d328f308e",
   "metadata": {},
   "outputs": [],
   "source": [
    "df = df.drop([\"Checking account\", \"Saving accounts\"], axis=1)"
   ]
  },
  {
   "cell_type": "code",
   "execution_count": null,
   "id": "2f61bf35-c479-45be-af4a-fc780e49d2bc",
   "metadata": {},
   "outputs": [],
   "source": [
    "df.nunique()"
   ]
  },
  {
   "cell_type": "markdown",
   "id": "a898dd37-c211-423a-bb4b-f86b8f8a2336",
   "metadata": {},
   "source": [
    "Aqui damos uma olhada nos possíveis valores das colunas:"
   ]
  },
  {
   "cell_type": "code",
   "execution_count": null,
   "id": "de3bd30d-1524-413c-b10e-529909047c47",
   "metadata": {},
   "outputs": [],
   "source": [
    "for col in df:\n",
    "    if(df[col].unique().shape[0] <= 10):\n",
    "        print(col)\n",
    "        print(df[col].unique())\n",
    "        print()"
   ]
  },
  {
   "cell_type": "markdown",
   "id": "247bb327-d258-4667-941f-284fa0d02a31",
   "metadata": {},
   "source": [
    "Conferimos se há linhas duplicadas:"
   ]
  },
  {
   "cell_type": "code",
   "execution_count": null,
   "id": "40ed4b79-382a-4f09-b98b-8cfff8527dd1",
   "metadata": {},
   "outputs": [],
   "source": [
    "df.duplicated().sum()"
   ]
  },
  {
   "cell_type": "markdown",
   "id": "50e0043f-ad1b-4069-a4c5-2074cb88729b",
   "metadata": {},
   "source": [
    "## Análise univariada"
   ]
  },
  {
   "cell_type": "markdown",
   "id": "e0108cdc-1507-4588-b09b-90c0443ecc4c",
   "metadata": {},
   "source": [
    "Verificando outliers para variáveis numéricas:"
   ]
  },
  {
   "cell_type": "code",
   "execution_count": null,
   "id": "e4a559bf-d893-49e1-b6b4-a6a2a5eb9340",
   "metadata": {},
   "outputs": [],
   "source": [
    "df.describe()"
   ]
  },
  {
   "cell_type": "code",
   "execution_count": null,
   "id": "f914e5b4-105a-4b67-bc9b-3e62d2b0c08f",
   "metadata": {},
   "outputs": [],
   "source": [
    "fig, axes = plt.subplots(1, 3, figsize=(18, 5))\n",
    "\n",
    "sns.boxplot(df['Age'], ax=axes[0], color='blue')\n",
    "axes[0].set_title('Age')\n",
    "sns.boxplot(df['Credit amount'], ax=axes[1], color='pink')\n",
    "axes[1].set_title('Credit amount')\n",
    "sns.boxplot(df['Duration'], ax=axes[2], color='green')\n",
    "axes[2].set_title('Duration')\n",
    "\n",
    "for subplot in axes:\n",
    "    subplot.set_xticklabels([])\n",
    "    \n",
    "plt.show()"
   ]
  },
  {
   "cell_type": "markdown",
   "id": "8fd5b1a9-8502-4a33-b5b7-8a36dcc1e9ee",
   "metadata": {},
   "source": [
    "Parece que não haver necessidade de preocuparmos com outliers."
   ]
  },
  {
   "cell_type": "code",
   "execution_count": null,
   "id": "9803fdf4-1a89-4fc1-96e5-b1cd1e640f93",
   "metadata": {},
   "outputs": [],
   "source": [
    "sns.countplot(df, x=\"Risk\", hue=\"Risk\")"
   ]
  },
  {
   "cell_type": "code",
   "execution_count": null,
   "id": "6a579668-cce3-4dda-8b84-251edb5e95a5",
   "metadata": {},
   "outputs": [],
   "source": [
    "df_good = df.loc[df[\"Risk\"] == 'good']\n",
    "df_bad = df.loc[df[\"Risk\"] == 'bad']\n",
    "\n",
    "fig, axes = plt.subplots(1, 3, figsize=(18, 5), sharey=True)\n",
    "\n",
    "sns.histplot(df_good['Age'], kde=True, ax=axes[0], color='blue')\n",
    "axes[0].set_title('Good Credit')\n",
    "\n",
    "sns.histplot(df_bad['Age'], kde=True, ax=axes[1], color='pink')\n",
    "axes[1].set_title('Bad Credit')\n",
    "\n",
    "sns.histplot(df['Age'], kde=True, ax=axes[2], color='green')\n",
    "axes[2].set_title('Distribuição Geral')\n",
    "\n",
    "plt.tight_layout()\n",
    "plt.show()"
   ]
  },
  {
   "cell_type": "code",
   "execution_count": null,
   "id": "e057b7bb-de7d-4784-b638-8370a149e7fc",
   "metadata": {},
   "outputs": [],
   "source": [
    "fig, axes = plt.subplots(1, 3, figsize=(18, 5), sharey=True)\n",
    "\n",
    "sns.histplot(df_good['Credit amount'], kde=True, ax=axes[0], color='blue')\n",
    "axes[0].set_title('Good Credit')\n",
    "\n",
    "sns.histplot(df_bad['Credit amount'], kde=True, ax=axes[1], color='pink')\n",
    "axes[1].set_title('Bad Credit')\n",
    "\n",
    "sns.histplot(df['Credit amount'], kde=True, ax=axes[2], color='green')\n",
    "axes[2].set_title('Distribuição Geral')\n",
    "\n",
    "plt.tight_layout()\n",
    "plt.show()"
   ]
  },
  {
   "cell_type": "code",
   "execution_count": null,
   "id": "2e1abfc7-91b5-4389-8042-d73239f14fd4",
   "metadata": {},
   "outputs": [],
   "source": [
    "fig, axes = plt.subplots(1, 3, figsize=(18, 5), sharey=True)\n",
    "\n",
    "sns.histplot(df_good['Duration'], kde=True, ax=axes[0], color='blue')\n",
    "axes[0].set_title('Good Credit')\n",
    "\n",
    "sns.histplot(df_bad['Duration'], kde=True, ax=axes[1], color='pink')\n",
    "axes[1].set_title('Bad Credit')\n",
    "\n",
    "sns.histplot(df['Duration'], kde=True, ax=axes[2], color='green')\n",
    "axes[2].set_title('Distribuição Geral')\n",
    "\n",
    "plt.tight_layout()\n",
    "plt.show()"
   ]
  },
  {
   "cell_type": "markdown",
   "id": "455c207e-805d-414f-a568-8eb30fa5e914",
   "metadata": {},
   "source": [
    "## Análise bivariada"
   ]
  },
  {
   "cell_type": "markdown",
   "id": "1a943d97-f28f-4aa2-85fd-db2c5b675760",
   "metadata": {},
   "source": [
    "Colocando as idades em diferentes categorias:"
   ]
  },
  {
   "cell_type": "code",
   "execution_count": null,
   "id": "ca4a4d55-f2fe-48c8-8665-5f2965393ae1",
   "metadata": {},
   "outputs": [],
   "source": [
    "interval = (18, 25, 35, 60, 120)\n",
    "\n",
    "cats = ['Student', 'Young', 'Adult', 'Senior']\n",
    "df[\"Age_cat\"] = pd.cut(df.Age, interval, labels=cats)"
   ]
  },
  {
   "cell_type": "code",
   "execution_count": null,
   "id": "bf2cae5a-1b28-43b9-9769-680a120159bd",
   "metadata": {},
   "outputs": [],
   "source": [
    "fig, axes = plt.subplots(1, 3, figsize=(18, 5), sharey=True)\n",
    "\n",
    "sns.scatterplot(df, x='Age', y='Credit amount', hue='Risk', ax=axes[0])\n",
    "\n",
    "for _,gr in df.groupby('Risk', sort=False):\n",
    "    sns.regplot(x='Age', y='Credit amount', data=gr, scatter=False, ax=axes[0], truncate=False)\n",
    "    \n",
    "sns.violinplot(df, x='Age_cat', y='Credit amount', hue='Risk', split=True, inner=\"quart\", ax=axes[1])\n",
    "sns.boxplot(df, x='Risk', y='Credit amount', ax=axes[2])\n",
    "\n",
    "plt.tight_layout()\n",
    "plt.show()"
   ]
  },
  {
   "cell_type": "code",
   "execution_count": null,
   "id": "17cb309d-beeb-4e90-b7d2-93166e10c383",
   "metadata": {},
   "outputs": [],
   "source": [
    "fig, axes = plt.subplots(1, 3, figsize=(18, 5), sharey=True)\n",
    "\n",
    "sns.scatterplot(df, x='Age', y='Duration', hue='Risk', ax=axes[0])\n",
    "\n",
    "for _,gr in df.groupby('Risk', sort=False):\n",
    "    sns.regplot(x='Age', y='Duration', data=gr, scatter=False, ax=axes[0], truncate=False)\n",
    "    \n",
    "sns.violinplot(df, x='Age_cat', y='Duration', hue='Risk', split=True, inner=\"quart\", ax=axes[1])\n",
    "sns.boxplot(df, x='Risk', y='Duration', ax=axes[2])\n",
    "\n",
    "plt.tight_layout()\n",
    "plt.show()"
   ]
  },
  {
   "cell_type": "code",
   "execution_count": null,
   "id": "3c1c479b-8a77-4e88-8fa1-1bdf8f4fc60e",
   "metadata": {},
   "outputs": [],
   "source": [
    "interval = (0, 20, 40, 60, 80)\n",
    "\n",
    "cats = ['Short', 'Medium', 'Long', 'Very long']\n",
    "df[\"Duration_cat\"] = pd.cut(df.Age, interval, labels=cats)\n",
    "\n",
    "fig, axes = plt.subplots(1, 3, figsize=(18, 5), sharey=True)\n",
    "\n",
    "sns.scatterplot(df, x='Duration', y='Credit amount', hue='Risk', ax=axes[0])\n",
    "\n",
    "for _,gr in df.groupby('Risk', sort=False):\n",
    "    sns.regplot(x='Duration', y='Credit amount', data=gr, scatter=False, ax=axes[0], truncate=False)\n",
    "    \n",
    "sns.violinplot(df, x='Duration_cat', y='Credit amount', hue='Risk', split=True, inner=\"quart\", ax=axes[1])\n",
    "sns.boxplot(df, x='Risk', y='Credit amount', ax=axes[2])\n",
    "\n",
    "plt.tight_layout()\n",
    "plt.show()"
   ]
  },
  {
   "cell_type": "code",
   "execution_count": null,
   "id": "f1a11a0c-137a-4d4d-a1ad-5d5163081e5e",
   "metadata": {},
   "outputs": [],
   "source": [
    "fig, axes = plt.subplots(1, 4, figsize=(18, 5), sharey=True)\n",
    "\n",
    "sns.countplot(df, y=\"Sex\", hue=\"Risk\", ax=axes[0])\n",
    "sns.violinplot(df, x='Age', y=\"Sex\", hue=\"Risk\", split=True, inner=\"quart\", ax=axes[1])\n",
    "sns.violinplot(df, x='Credit amount', y=\"Sex\", hue=\"Risk\", split=True, inner=\"quart\", ax=axes[2])\n",
    "sns.violinplot(df, x='Duration', y=\"Sex\", hue=\"Risk\", split=True, inner=\"quart\", ax=axes[3])\n",
    "\n",
    "plt.tight_layout()\n",
    "plt.show()"
   ]
  },
  {
   "cell_type": "code",
   "execution_count": null,
   "id": "9cbf050b-4ae8-418e-a1c3-c6be4dc95bd0",
   "metadata": {},
   "outputs": [],
   "source": [
    "fig, axes = plt.subplots(1, 4, figsize=(18, 5), sharey=True)\n",
    "\n",
    "sns.countplot(df, y=\"Housing\", hue=\"Risk\", ax=axes[0])\n",
    "sns.violinplot(df, x='Age', y=\"Housing\", hue=\"Risk\", split=True, inner=\"quart\", ax=axes[1])\n",
    "sns.violinplot(df, x='Credit amount', y=\"Housing\", hue=\"Risk\", split=True, inner=\"quart\", ax=axes[2])\n",
    "sns.violinplot(df, x='Duration', y=\"Housing\", hue=\"Risk\", split=True, inner=\"quart\", ax=axes[3])\n",
    "\n",
    "plt.tight_layout()\n",
    "plt.show()"
   ]
  },
  {
   "cell_type": "code",
   "execution_count": null,
   "id": "15c34f1e-29b7-4c9d-b2e6-3afdd460c29b",
   "metadata": {},
   "outputs": [],
   "source": [
    "# A coluna Job fuciona como valor categórico\n",
    "df['Job_cat'] = df['Job'].map({0 : 'unskilled and non-resident', 1 : 'unskilled and resident', 2 : 'skilled', 3 : 'highly skilled'})\n",
    "fig, axes = plt.subplots(1, 4, figsize=(18, 5), sharey=True)\n",
    "\n",
    "sns.countplot(df, y=\"Job_cat\", hue=\"Risk\", ax=axes[0], order=['unskilled and non-resident', 'unskilled and resident', 'skilled', 'highly skilled'])\n",
    "sns.violinplot(df, x='Age', y=\"Job_cat\", hue=\"Risk\", split=True, inner=\"quart\", ax=axes[1])\n",
    "sns.violinplot(df, x='Credit amount', y=\"Job_cat\", hue=\"Risk\", split=True, inner=\"quart\", ax=axes[2])\n",
    "sns.violinplot(df, x='Duration', y=\"Job_cat\", hue=\"Risk\", split=True, inner=\"quart\", ax=axes[3])\n",
    "\n",
    "plt.tight_layout()\n",
    "plt.show()"
   ]
  },
  {
   "cell_type": "code",
   "execution_count": null,
   "id": "82592ec1-3c28-4f3c-b5db-5a7b5e7027d7",
   "metadata": {},
   "outputs": [],
   "source": [
    "fig, axes = plt.subplots(1, 4, figsize=(18, 5), sharey=True)\n",
    "\n",
    "sns.countplot(df, y=\"Housing\", hue=\"Risk\", ax=axes[0])\n",
    "sns.violinplot(df, x='Age', y=\"Housing\", hue=\"Risk\", split=True, inner=\"quart\", ax=axes[1])\n",
    "sns.violinplot(df, x='Credit amount', y=\"Housing\", hue=\"Risk\", split=True, inner=\"quart\", ax=axes[2])\n",
    "sns.violinplot(df, x='Duration', y=\"Housing\", hue=\"Risk\", split=True, inner=\"quart\", ax=axes[3])\n",
    "\n",
    "plt.tight_layout()\n",
    "plt.show()"
   ]
  },
  {
   "cell_type": "code",
   "execution_count": null,
   "id": "cb2bb61f-7949-4cc0-b856-e1bb3d456e51",
   "metadata": {},
   "outputs": [],
   "source": [
    "fig, axes = plt.subplots(1, 4, figsize=(18, 5), sharey=True)\n",
    "\n",
    "sns.countplot(df, y=\"Saving accounts\", hue=\"Risk\", ax=axes[0], order=['no_info', 'little', 'moderate', 'quite rich', 'rich'])\n",
    "sns.violinplot(df, x='Age', y=\"Saving accounts\", hue=\"Risk\", split=True, inner=\"quart\", ax=axes[1])\n",
    "sns.violinplot(df, x='Credit amount', y=\"Saving accounts\", hue=\"Risk\", split=True, inner=\"quart\", ax=axes[2])\n",
    "sns.violinplot(df, x='Duration', y=\"Saving accounts\", hue=\"Risk\", split=True, inner=\"quart\", ax=axes[3])\n",
    "\n",
    "plt.tight_layout()\n",
    "plt.show()"
   ]
  },
  {
   "cell_type": "code",
   "execution_count": null,
   "id": "7975db1a-363a-4ff2-87a6-ff4b5d2c0f83",
   "metadata": {},
   "outputs": [],
   "source": [
    "fig, axes = plt.subplots(1, 4, figsize=(18, 5), sharey=True)\n",
    "\n",
    "sns.countplot(df, y=\"Checking account\", hue=\"Risk\", ax=axes[0], order=['no_info', 'little', 'moderate', 'rich'])\n",
    "sns.violinplot(df, x='Age', y=\"Checking account\", hue=\"Risk\", split=True, inner=\"quart\", ax=axes[1])\n",
    "sns.violinplot(df, x='Credit amount', y=\"Checking account\", hue=\"Risk\", split=True, inner=\"quart\", ax=axes[2])\n",
    "sns.violinplot(df, x='Duration', y=\"Checking account\", hue=\"Risk\", split=True, inner=\"quart\", ax=axes[3])\n",
    "\n",
    "plt.tight_layout()\n",
    "plt.show()"
   ]
  },
  {
   "cell_type": "code",
   "execution_count": null,
   "id": "98cd098b-03e6-40f4-be48-4a309a2ca567",
   "metadata": {},
   "outputs": [],
   "source": [
    "fig, axes = plt.subplots(1, 4, figsize=(18, 5), sharey=True)\n",
    "\n",
    "sns.countplot(df, y=\"Purpose\", hue=\"Risk\", ax=axes[0])\n",
    "sns.violinplot(df, x='Age', y=\"Purpose\", hue=\"Risk\", split=True, inner=\"quart\", ax=axes[1])\n",
    "sns.violinplot(df, x='Credit amount', y=\"Purpose\", hue=\"Risk\", split=True, inner=\"quart\", ax=axes[2])\n",
    "sns.violinplot(df, x='Duration', y=\"Purpose\", hue=\"Risk\", split=True, inner=\"quart\", ax=axes[3])\n",
    "\n",
    "plt.tight_layout()\n",
    "plt.show()"
   ]
  },
  {
   "cell_type": "markdown",
   "id": "b5cde01a-5505-4568-8e32-a58785b330a9",
   "metadata": {},
   "source": [
    "# Treinamento"
   ]
  },
  {
   "cell_type": "code",
   "execution_count": null,
   "id": "1762064b-8e5c-4927-8d08-1761c3a3636c",
   "metadata": {},
   "outputs": [],
   "source": [
    "from sklearn.model_selection import train_test_split, KFold, cross_val_score\n",
    "from sklearn.metrics import accuracy_score, confusion_matrix, classification_report, fbeta_score\n",
    "\n",
    "from sklearn.model_selection import GridSearchCV\n",
    "\n",
    "from sklearn.ensemble import RandomForestClassifier\n",
    "from sklearn.linear_model import LogisticRegression\n",
    "from sklearn.tree import DecisionTreeClassifier\n",
    "from sklearn.neighbors import KNeighborsClassifier\n",
    "from sklearn.ensemble import RandomForestClassifier\n",
    "from sklearn.discriminant_analysis import LinearDiscriminantAnalysis\n",
    "from sklearn.naive_bayes import GaussianNB\n",
    "from sklearn.svm import SVC\n",
    "from xgboost import XGBClassifier"
   ]
  },
  {
   "cell_type": "code",
   "execution_count": null,
   "id": "23c5104c-5399-462e-8e29-e3d8446ad96b",
   "metadata": {},
   "outputs": [],
   "source": [
    "df = df.merge(pd.get_dummies(df.Purpose, drop_first=True, prefix='Purpose'), left_index=True, right_index=True)\n",
    "df = df.merge(pd.get_dummies(df.Sex, drop_first=True, prefix='Sex'), left_index=True, right_index=True)\n",
    "df = df.merge(pd.get_dummies(df.Housing, drop_first=True, prefix='Housing'), left_index=True, right_index=True)\n",
    "df = df.merge(pd.get_dummies(df[\"Saving accounts\"], drop_first=True, prefix='Savings'), left_index=True, right_index=True)\n",
    "df = df.merge(pd.get_dummies(df.Risk, prefix='Risk'), left_index=True, right_index=True)\n",
    "df = df.merge(pd.get_dummies(df[\"Checking account\"], drop_first=True, prefix='Check'), left_index=True, right_index=True)\n",
    "df = df.merge(pd.get_dummies(df[\"Age_cat\"], drop_first=True, prefix='Age_cat'), left_index=True, right_index=True)\n",
    "\n",
    "del df[\"Saving accounts\"]\n",
    "del df[\"Checking account\"]\n",
    "del df[\"Purpose\"]\n",
    "del df[\"Sex\"]\n",
    "del df[\"Housing\"]\n",
    "del df[\"Age_cat\"]\n",
    "del df[\"Risk\"]\n",
    "del df['Risk_good']\n",
    "del df['Job_cat']\n",
    "del df['Duration_cat']"
   ]
  },
  {
   "cell_type": "code",
   "execution_count": null,
   "id": "709c1c23-7a06-445a-bca9-c69d048f5775",
   "metadata": {},
   "outputs": [],
   "source": [
    "df['Credit amount'] = np.log(df['Credit amount'])"
   ]
  },
  {
   "cell_type": "code",
   "execution_count": null,
   "id": "4c74d820-24ca-4d76-9988-bf3624e7768a",
   "metadata": {},
   "outputs": [],
   "source": [
    "X = df.drop('Risk_bad', axis=1).values\n",
    "y = df[\"Risk_bad\"].values\n",
    "\n",
    "X_train, X_test, y_train, y_test = train_test_split(X, y, test_size = 0.25, random_state=42)"
   ]
  },
  {
   "cell_type": "code",
   "execution_count": null,
   "id": "09e79bdd-e514-472b-84f2-240f1f40b125",
   "metadata": {},
   "outputs": [],
   "source": [
    "seed = 7\n",
    "\n",
    "# prepare models\n",
    "models = []\n",
    "models.append(('LR', LogisticRegression()))\n",
    "models.append(('LDA', LinearDiscriminantAnalysis()))\n",
    "models.append(('KNN', KNeighborsClassifier()))\n",
    "models.append(('CART', DecisionTreeClassifier()))\n",
    "models.append(('NB', GaussianNB()))\n",
    "models.append(('RF', RandomForestClassifier()))\n",
    "models.append(('SVM', SVC(gamma='auto')))\n",
    "models.append(('XGB', XGBClassifier()))\n",
    "\n",
    "# evaluate each model in turn\n",
    "results = []\n",
    "names = []\n",
    "scoring = 'recall'\n",
    "\n",
    "for name, model in models:\n",
    "        kfold = KFold(n_splits=10, shuffle=True, random_state=seed)\n",
    "        cv_results = cross_val_score(model, X_train, y_train, cv=kfold, scoring=scoring)\n",
    "        results.append(cv_results)\n",
    "        names.append(name)\n",
    "        msg = \"%s: %f (%f)\" % (name, cv_results.mean(), cv_results.std())\n",
    "        print(msg)\n",
    "        \n",
    "# boxplot algorithm comparison\n",
    "fig = plt.figure(figsize=(11,6))\n",
    "fig.suptitle('Algorithm Comparison')\n",
    "ax = fig.add_subplot(111)\n",
    "plt.boxplot(results)\n",
    "ax.set_xticklabels(names)\n",
    "plt.show()"
   ]
  },
  {
   "cell_type": "markdown",
   "id": "0ec3dfc3-5a03-4c17-91b7-ff5533adecb9",
   "metadata": {},
   "source": [
    "# Usando dados sintéticos"
   ]
  },
  {
   "cell_type": "code",
   "execution_count": null,
   "id": "f3726df0-6608-4d77-86b1-c188173256bd",
   "metadata": {},
   "outputs": [],
   "source": [
    "df = pd.read_csv(\"data/german/german_credit_data.csv\",index_col=0)\n",
    "df = df.fillna(\"no_info\")\n",
    "df"
   ]
  },
  {
   "cell_type": "code",
   "execution_count": null,
   "id": "80dafddc-157a-4479-b14d-32795b2db775",
   "metadata": {},
   "outputs": [],
   "source": [
    "from ctgan import CTGAN\n",
    "\n",
    "discrete_columns = [\n",
    "    'Sex',\n",
    "    'Housing',\n",
    "    'Saving accounts',\n",
    "    'Checking account',\n",
    "    'Purpose',\n",
    "    'Risk',\n",
    "]\n",
    "\n",
    "ctgan = CTGAN(epochs=10)\n",
    "ctgan.fit(df, discrete_columns)\n",
    "\n",
    "# Create synthetic data\n",
    "synthetic_data = ctgan.sample(1000)\n",
    "synthetic_data"
   ]
  },
  {
   "cell_type": "code",
   "execution_count": null,
   "id": "a93efd50-e1d5-43d8-81ea-b921ae328e34",
   "metadata": {},
   "outputs": [],
   "source": [
    "sns.countplot(synthetic_data, x='Risk')"
   ]
  },
  {
   "cell_type": "code",
   "execution_count": null,
   "id": "e4d21296-5c57-49e5-bdd1-fdb24d3bd1e7",
   "metadata": {},
   "outputs": [],
   "source": [
    "df[df['Risk'] == 'bad'].shape"
   ]
  },
  {
   "cell_type": "code",
   "execution_count": null,
   "id": "51476cc8-7ad5-41a4-9797-8c68406b6085",
   "metadata": {},
   "outputs": [],
   "source": [
    "synthetic_data[synthetic_data['Risk'] == 'bad'].shape"
   ]
  },
  {
   "cell_type": "code",
   "execution_count": null,
   "id": "6d45ac1c-c01f-4679-bcd8-dfdd763b65e1",
   "metadata": {},
   "outputs": [],
   "source": [
    "synthetic_data = synthetic_data.drop(synthetic_data[synthetic_data['Risk'] == 'good'].index)\n",
    "df = pd.concat([df, synthetic_data])"
   ]
  },
  {
   "cell_type": "code",
   "execution_count": null,
   "id": "eea38eef-e7f7-4772-8f29-8880a5667aa0",
   "metadata": {},
   "outputs": [],
   "source": [
    "df.shape"
   ]
  },
  {
   "cell_type": "code",
   "execution_count": null,
   "id": "3b80b9e8-bf2f-419d-8ba4-9db059fedb63",
   "metadata": {},
   "outputs": [],
   "source": [
    "import sys\n",
    "this = sys.modules[__name__]\n",
    "print(this)\n",
    "for n in dir():\n",
    "    if n[0]!='_' and n!='this': delattr(this, n) "
   ]
  },
  {
   "cell_type": "code",
   "execution_count": null,
   "id": "5a8d86ad-7880-4406-a6c0-91b985e8c2b6",
   "metadata": {},
   "outputs": [],
   "source": [
    "import sys\n",
    "this = sys.modules[__name__]\n",
    "print(this)\n",
    "for n in dir():\n",
    "    print(n)"
   ]
  },
  {
   "cell_type": "code",
   "execution_count": null,
   "id": "aad1e9cf-af89-4eff-bc3d-8afc7d785c2c",
   "metadata": {},
   "outputs": [],
   "source": [
    "interval = (18, 25, 35, 60, 120)\n",
    "\n",
    "cats = ['Student', 'Young', 'Adult', 'Senior']\n",
    "df[\"Age_cat\"] = pd.cut(df.Age, interval, labels=cats)\n",
    "df = df.merge(pd.get_dummies(df.Purpose, drop_first=True, prefix='Purpose'), left_index=True, right_index=True)\n",
    "df = df.merge(pd.get_dummies(df.Sex, drop_first=True, prefix='Sex'), left_index=True, right_index=True)\n",
    "df = df.merge(pd.get_dummies(df.Housing, drop_first=True, prefix='Housing'), left_index=True, right_index=True)\n",
    "df = df.merge(pd.get_dummies(df[\"Saving accounts\"], drop_first=True, prefix='Savings'), left_index=True, right_index=True)\n",
    "df = df.merge(pd.get_dummies(df.Risk, prefix='Risk'), left_index=True, right_index=True)\n",
    "df = df.merge(pd.get_dummies(df[\"Checking account\"], drop_first=True, prefix='Check'), left_index=True, right_index=True)\n",
    "df = df.merge(pd.get_dummies(df[\"Age_cat\"], drop_first=True, prefix='Age_cat'), left_index=True, right_index=True)\n",
    "\n",
    "del df[\"Saving accounts\"]\n",
    "del df[\"Checking account\"]\n",
    "del df[\"Purpose\"]\n",
    "del df[\"Sex\"]\n",
    "del df[\"Housing\"]\n",
    "del df[\"Age_cat\"]\n",
    "del df[\"Risk\"]\n",
    "del df['Risk_good']\n",
    "\n",
    "df['Credit amount'] = np.log(df['Credit amount'])"
   ]
  },
  {
   "cell_type": "code",
   "execution_count": null,
   "id": "ea8f1a11-1afc-4262-912b-c8a3bc6c10cd",
   "metadata": {},
   "outputs": [],
   "source": [
    "X = df.drop('Risk_bad', axis=1).values\n",
    "y = df[\"Risk_bad\"].values\n",
    "\n",
    "X_train, X_test, y_train, y_test = train_test_split(X, y, test_size = 0.25, random_state=42)"
   ]
  },
  {
   "cell_type": "code",
   "execution_count": null,
   "id": "71f0b3ad-15d4-4330-9857-5e288e13a9ec",
   "metadata": {},
   "outputs": [],
   "source": [
    "seed = 7\n",
    "\n",
    "# prepare models\n",
    "models = []\n",
    "models.append(('LR', LogisticRegression()))\n",
    "models.append(('LDA', LinearDiscriminantAnalysis()))\n",
    "models.append(('KNN', KNeighborsClassifier()))\n",
    "models.append(('CART', DecisionTreeClassifier()))\n",
    "models.append(('NB', GaussianNB()))\n",
    "models.append(('RF', RandomForestClassifier()))\n",
    "models.append(('SVM', SVC(gamma='auto')))\n",
    "models.append(('XGB', XGBClassifier()))\n",
    "\n",
    "# evaluate each model in turn\n",
    "results = []\n",
    "names = []\n",
    "scoring = 'recall'\n",
    "\n",
    "for name, model in models:\n",
    "        kfold = KFold(n_splits=10, shuffle=True, random_state=seed)\n",
    "        cv_results = cross_val_score(model, X_train, y_train, cv=kfold, scoring=scoring)\n",
    "        results.append(cv_results)\n",
    "        names.append(name)\n",
    "        msg = \"%s: %f (%f)\" % (name, cv_results.mean(), cv_results.std())\n",
    "        print(msg)\n",
    "        \n",
    "# boxplot algorithm comparison\n",
    "fig = plt.figure(figsize=(11,6))\n",
    "fig.suptitle('Algorithm Comparison')\n",
    "ax = fig.add_subplot(111)\n",
    "plt.boxplot(results)\n",
    "ax.set_xticklabels(names)\n",
    "plt.show()"
   ]
  }
 ],
 "metadata": {
  "kernelspec": {
   "display_name": "Python 3 (ipykernel)",
   "language": "python",
   "name": "python3"
  },
  "language_info": {
   "codemirror_mode": {
    "name": "ipython",
    "version": 3
   },
   "file_extension": ".py",
   "mimetype": "text/x-python",
   "name": "python",
   "nbconvert_exporter": "python",
   "pygments_lexer": "ipython3",
   "version": "3.11.9"
  }
 },
 "nbformat": 4,
 "nbformat_minor": 5
}
