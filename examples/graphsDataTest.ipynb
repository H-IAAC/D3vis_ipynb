{
 "cells": [
  {
   "cell_type": "markdown",
   "id": "eea13071-4071-465f-a202-97ec2edcbf2d",
   "metadata": {},
   "source": [
    "[![Open In Colab](https://colab.research.google.com/assets/colab-badge.svg)](https://colab.research.google.com/github/H-IAAC/d3vis_ipynb/blob/main/examples/graphs.ipynb)"
   ]
  },
  {
   "cell_type": "markdown",
   "id": "5d115a86-64a2-4b7d-a5a1-a34c2738a2a4",
   "metadata": {},
   "source": [
    "# Import Datasets"
   ]
  },
  {
   "cell_type": "code",
   "execution_count": 3,
   "id": "247eba0b-3f84-4c97-a5c1-423a6330c821",
   "metadata": {
    "jp-MarkdownHeadingCollapsed": true
   },
   "outputs": [],
   "source": [
    "from sklearn.svm import OneClassSVM\n",
    "import pandas as pd\n",
    "from sklearn.ensemble import IsolationForest\n",
    "import numpy as np\n",
    "from xgboost import XGBClassifier, XGBRegressor\n",
    "from sklearn.model_selection import train_test_split\n",
    "import shap\n",
    "import gdown\n",
    "import os\n",
    "from d3vis_ipynb import BarPlot, HistogramPlot, ScatterPlot, LinearPlot, RangeSlider, MatrixLayout, MapPlot, BeeswarmPlot"
   ]
  },
  {
   "cell_type": "code",
   "execution_count": 9,
   "id": "cde3eb9c-9d7b-4aa4-ae60-e18d25b0b854",
   "metadata": {},
   "outputs": [],
   "source": [
    "output_path = \"data/dados_saeb.csv\"\n",
    " \n",
    "if not os.path.isfile(output_path):\n",
    "    if not os.path.exists(\"data\"):\n",
    "        os.makedirs(\"data\")\n",
    "    file_id = \"1ClwCEiXc2bqM5bZ__u1Zxw0Q39yJDqjE\"\n",
    "    gdown.download(f\"https://drive.google.com/uc?id={file_id}\", output_path, quiet=False)\n",
    " \n",
    "df = pd.read_csv(output_path, encoding='utf-8', sep=';')"
   ]
  },
  {
   "cell_type": "code",
   "execution_count": 11,
   "id": "469d4fbc-1f1f-4bc9-b1aa-38899237faaa",
   "metadata": {},
   "outputs": [],
   "source": [
    "df.columns = df.columns.str.replace(\"ALUNOS_PORCENTAGEM_\", \"\", regex=False)\n",
    "df.columns = df.columns.str.replace(\"PROFESSOR_PORCENTAGEM_\", \"\", regex=False)"
   ]
  },
  {
   "cell_type": "code",
   "execution_count": 13,
   "id": "04e29b00-5d46-434b-820c-5b1bfcc8a0f0",
   "metadata": {},
   "outputs": [
    {
     "data": {
      "text/html": [
       "<style>#sk-container-id-1 {\n",
       "  /* Definition of color scheme common for light and dark mode */\n",
       "  --sklearn-color-text: black;\n",
       "  --sklearn-color-line: gray;\n",
       "  /* Definition of color scheme for unfitted estimators */\n",
       "  --sklearn-color-unfitted-level-0: #fff5e6;\n",
       "  --sklearn-color-unfitted-level-1: #f6e4d2;\n",
       "  --sklearn-color-unfitted-level-2: #ffe0b3;\n",
       "  --sklearn-color-unfitted-level-3: chocolate;\n",
       "  /* Definition of color scheme for fitted estimators */\n",
       "  --sklearn-color-fitted-level-0: #f0f8ff;\n",
       "  --sklearn-color-fitted-level-1: #d4ebff;\n",
       "  --sklearn-color-fitted-level-2: #b3dbfd;\n",
       "  --sklearn-color-fitted-level-3: cornflowerblue;\n",
       "\n",
       "  /* Specific color for light theme */\n",
       "  --sklearn-color-text-on-default-background: var(--sg-text-color, var(--theme-code-foreground, var(--jp-content-font-color1, black)));\n",
       "  --sklearn-color-background: var(--sg-background-color, var(--theme-background, var(--jp-layout-color0, white)));\n",
       "  --sklearn-color-border-box: var(--sg-text-color, var(--theme-code-foreground, var(--jp-content-font-color1, black)));\n",
       "  --sklearn-color-icon: #696969;\n",
       "\n",
       "  @media (prefers-color-scheme: dark) {\n",
       "    /* Redefinition of color scheme for dark theme */\n",
       "    --sklearn-color-text-on-default-background: var(--sg-text-color, var(--theme-code-foreground, var(--jp-content-font-color1, white)));\n",
       "    --sklearn-color-background: var(--sg-background-color, var(--theme-background, var(--jp-layout-color0, #111)));\n",
       "    --sklearn-color-border-box: var(--sg-text-color, var(--theme-code-foreground, var(--jp-content-font-color1, white)));\n",
       "    --sklearn-color-icon: #878787;\n",
       "  }\n",
       "}\n",
       "\n",
       "#sk-container-id-1 {\n",
       "  color: var(--sklearn-color-text);\n",
       "}\n",
       "\n",
       "#sk-container-id-1 pre {\n",
       "  padding: 0;\n",
       "}\n",
       "\n",
       "#sk-container-id-1 input.sk-hidden--visually {\n",
       "  border: 0;\n",
       "  clip: rect(1px 1px 1px 1px);\n",
       "  clip: rect(1px, 1px, 1px, 1px);\n",
       "  height: 1px;\n",
       "  margin: -1px;\n",
       "  overflow: hidden;\n",
       "  padding: 0;\n",
       "  position: absolute;\n",
       "  width: 1px;\n",
       "}\n",
       "\n",
       "#sk-container-id-1 div.sk-dashed-wrapped {\n",
       "  border: 1px dashed var(--sklearn-color-line);\n",
       "  margin: 0 0.4em 0.5em 0.4em;\n",
       "  box-sizing: border-box;\n",
       "  padding-bottom: 0.4em;\n",
       "  background-color: var(--sklearn-color-background);\n",
       "}\n",
       "\n",
       "#sk-container-id-1 div.sk-container {\n",
       "  /* jupyter's `normalize.less` sets `[hidden] { display: none; }`\n",
       "     but bootstrap.min.css set `[hidden] { display: none !important; }`\n",
       "     so we also need the `!important` here to be able to override the\n",
       "     default hidden behavior on the sphinx rendered scikit-learn.org.\n",
       "     See: https://github.com/scikit-learn/scikit-learn/issues/21755 */\n",
       "  display: inline-block !important;\n",
       "  position: relative;\n",
       "}\n",
       "\n",
       "#sk-container-id-1 div.sk-text-repr-fallback {\n",
       "  display: none;\n",
       "}\n",
       "\n",
       "div.sk-parallel-item,\n",
       "div.sk-serial,\n",
       "div.sk-item {\n",
       "  /* draw centered vertical line to link estimators */\n",
       "  background-image: linear-gradient(var(--sklearn-color-text-on-default-background), var(--sklearn-color-text-on-default-background));\n",
       "  background-size: 2px 100%;\n",
       "  background-repeat: no-repeat;\n",
       "  background-position: center center;\n",
       "}\n",
       "\n",
       "/* Parallel-specific style estimator block */\n",
       "\n",
       "#sk-container-id-1 div.sk-parallel-item::after {\n",
       "  content: \"\";\n",
       "  width: 100%;\n",
       "  border-bottom: 2px solid var(--sklearn-color-text-on-default-background);\n",
       "  flex-grow: 1;\n",
       "}\n",
       "\n",
       "#sk-container-id-1 div.sk-parallel {\n",
       "  display: flex;\n",
       "  align-items: stretch;\n",
       "  justify-content: center;\n",
       "  background-color: var(--sklearn-color-background);\n",
       "  position: relative;\n",
       "}\n",
       "\n",
       "#sk-container-id-1 div.sk-parallel-item {\n",
       "  display: flex;\n",
       "  flex-direction: column;\n",
       "}\n",
       "\n",
       "#sk-container-id-1 div.sk-parallel-item:first-child::after {\n",
       "  align-self: flex-end;\n",
       "  width: 50%;\n",
       "}\n",
       "\n",
       "#sk-container-id-1 div.sk-parallel-item:last-child::after {\n",
       "  align-self: flex-start;\n",
       "  width: 50%;\n",
       "}\n",
       "\n",
       "#sk-container-id-1 div.sk-parallel-item:only-child::after {\n",
       "  width: 0;\n",
       "}\n",
       "\n",
       "/* Serial-specific style estimator block */\n",
       "\n",
       "#sk-container-id-1 div.sk-serial {\n",
       "  display: flex;\n",
       "  flex-direction: column;\n",
       "  align-items: center;\n",
       "  background-color: var(--sklearn-color-background);\n",
       "  padding-right: 1em;\n",
       "  padding-left: 1em;\n",
       "}\n",
       "\n",
       "\n",
       "/* Toggleable style: style used for estimator/Pipeline/ColumnTransformer box that is\n",
       "clickable and can be expanded/collapsed.\n",
       "- Pipeline and ColumnTransformer use this feature and define the default style\n",
       "- Estimators will overwrite some part of the style using the `sk-estimator` class\n",
       "*/\n",
       "\n",
       "/* Pipeline and ColumnTransformer style (default) */\n",
       "\n",
       "#sk-container-id-1 div.sk-toggleable {\n",
       "  /* Default theme specific background. It is overwritten whether we have a\n",
       "  specific estimator or a Pipeline/ColumnTransformer */\n",
       "  background-color: var(--sklearn-color-background);\n",
       "}\n",
       "\n",
       "/* Toggleable label */\n",
       "#sk-container-id-1 label.sk-toggleable__label {\n",
       "  cursor: pointer;\n",
       "  display: block;\n",
       "  width: 100%;\n",
       "  margin-bottom: 0;\n",
       "  padding: 0.5em;\n",
       "  box-sizing: border-box;\n",
       "  text-align: center;\n",
       "}\n",
       "\n",
       "#sk-container-id-1 label.sk-toggleable__label-arrow:before {\n",
       "  /* Arrow on the left of the label */\n",
       "  content: \"▸\";\n",
       "  float: left;\n",
       "  margin-right: 0.25em;\n",
       "  color: var(--sklearn-color-icon);\n",
       "}\n",
       "\n",
       "#sk-container-id-1 label.sk-toggleable__label-arrow:hover:before {\n",
       "  color: var(--sklearn-color-text);\n",
       "}\n",
       "\n",
       "/* Toggleable content - dropdown */\n",
       "\n",
       "#sk-container-id-1 div.sk-toggleable__content {\n",
       "  max-height: 0;\n",
       "  max-width: 0;\n",
       "  overflow: hidden;\n",
       "  text-align: left;\n",
       "  /* unfitted */\n",
       "  background-color: var(--sklearn-color-unfitted-level-0);\n",
       "}\n",
       "\n",
       "#sk-container-id-1 div.sk-toggleable__content.fitted {\n",
       "  /* fitted */\n",
       "  background-color: var(--sklearn-color-fitted-level-0);\n",
       "}\n",
       "\n",
       "#sk-container-id-1 div.sk-toggleable__content pre {\n",
       "  margin: 0.2em;\n",
       "  border-radius: 0.25em;\n",
       "  color: var(--sklearn-color-text);\n",
       "  /* unfitted */\n",
       "  background-color: var(--sklearn-color-unfitted-level-0);\n",
       "}\n",
       "\n",
       "#sk-container-id-1 div.sk-toggleable__content.fitted pre {\n",
       "  /* unfitted */\n",
       "  background-color: var(--sklearn-color-fitted-level-0);\n",
       "}\n",
       "\n",
       "#sk-container-id-1 input.sk-toggleable__control:checked~div.sk-toggleable__content {\n",
       "  /* Expand drop-down */\n",
       "  max-height: 200px;\n",
       "  max-width: 100%;\n",
       "  overflow: auto;\n",
       "}\n",
       "\n",
       "#sk-container-id-1 input.sk-toggleable__control:checked~label.sk-toggleable__label-arrow:before {\n",
       "  content: \"▾\";\n",
       "}\n",
       "\n",
       "/* Pipeline/ColumnTransformer-specific style */\n",
       "\n",
       "#sk-container-id-1 div.sk-label input.sk-toggleable__control:checked~label.sk-toggleable__label {\n",
       "  color: var(--sklearn-color-text);\n",
       "  background-color: var(--sklearn-color-unfitted-level-2);\n",
       "}\n",
       "\n",
       "#sk-container-id-1 div.sk-label.fitted input.sk-toggleable__control:checked~label.sk-toggleable__label {\n",
       "  background-color: var(--sklearn-color-fitted-level-2);\n",
       "}\n",
       "\n",
       "/* Estimator-specific style */\n",
       "\n",
       "/* Colorize estimator box */\n",
       "#sk-container-id-1 div.sk-estimator input.sk-toggleable__control:checked~label.sk-toggleable__label {\n",
       "  /* unfitted */\n",
       "  background-color: var(--sklearn-color-unfitted-level-2);\n",
       "}\n",
       "\n",
       "#sk-container-id-1 div.sk-estimator.fitted input.sk-toggleable__control:checked~label.sk-toggleable__label {\n",
       "  /* fitted */\n",
       "  background-color: var(--sklearn-color-fitted-level-2);\n",
       "}\n",
       "\n",
       "#sk-container-id-1 div.sk-label label.sk-toggleable__label,\n",
       "#sk-container-id-1 div.sk-label label {\n",
       "  /* The background is the default theme color */\n",
       "  color: var(--sklearn-color-text-on-default-background);\n",
       "}\n",
       "\n",
       "/* On hover, darken the color of the background */\n",
       "#sk-container-id-1 div.sk-label:hover label.sk-toggleable__label {\n",
       "  color: var(--sklearn-color-text);\n",
       "  background-color: var(--sklearn-color-unfitted-level-2);\n",
       "}\n",
       "\n",
       "/* Label box, darken color on hover, fitted */\n",
       "#sk-container-id-1 div.sk-label.fitted:hover label.sk-toggleable__label.fitted {\n",
       "  color: var(--sklearn-color-text);\n",
       "  background-color: var(--sklearn-color-fitted-level-2);\n",
       "}\n",
       "\n",
       "/* Estimator label */\n",
       "\n",
       "#sk-container-id-1 div.sk-label label {\n",
       "  font-family: monospace;\n",
       "  font-weight: bold;\n",
       "  display: inline-block;\n",
       "  line-height: 1.2em;\n",
       "}\n",
       "\n",
       "#sk-container-id-1 div.sk-label-container {\n",
       "  text-align: center;\n",
       "}\n",
       "\n",
       "/* Estimator-specific */\n",
       "#sk-container-id-1 div.sk-estimator {\n",
       "  font-family: monospace;\n",
       "  border: 1px dotted var(--sklearn-color-border-box);\n",
       "  border-radius: 0.25em;\n",
       "  box-sizing: border-box;\n",
       "  margin-bottom: 0.5em;\n",
       "  /* unfitted */\n",
       "  background-color: var(--sklearn-color-unfitted-level-0);\n",
       "}\n",
       "\n",
       "#sk-container-id-1 div.sk-estimator.fitted {\n",
       "  /* fitted */\n",
       "  background-color: var(--sklearn-color-fitted-level-0);\n",
       "}\n",
       "\n",
       "/* on hover */\n",
       "#sk-container-id-1 div.sk-estimator:hover {\n",
       "  /* unfitted */\n",
       "  background-color: var(--sklearn-color-unfitted-level-2);\n",
       "}\n",
       "\n",
       "#sk-container-id-1 div.sk-estimator.fitted:hover {\n",
       "  /* fitted */\n",
       "  background-color: var(--sklearn-color-fitted-level-2);\n",
       "}\n",
       "\n",
       "/* Specification for estimator info (e.g. \"i\" and \"?\") */\n",
       "\n",
       "/* Common style for \"i\" and \"?\" */\n",
       "\n",
       ".sk-estimator-doc-link,\n",
       "a:link.sk-estimator-doc-link,\n",
       "a:visited.sk-estimator-doc-link {\n",
       "  float: right;\n",
       "  font-size: smaller;\n",
       "  line-height: 1em;\n",
       "  font-family: monospace;\n",
       "  background-color: var(--sklearn-color-background);\n",
       "  border-radius: 1em;\n",
       "  height: 1em;\n",
       "  width: 1em;\n",
       "  text-decoration: none !important;\n",
       "  margin-left: 1ex;\n",
       "  /* unfitted */\n",
       "  border: var(--sklearn-color-unfitted-level-1) 1pt solid;\n",
       "  color: var(--sklearn-color-unfitted-level-1);\n",
       "}\n",
       "\n",
       ".sk-estimator-doc-link.fitted,\n",
       "a:link.sk-estimator-doc-link.fitted,\n",
       "a:visited.sk-estimator-doc-link.fitted {\n",
       "  /* fitted */\n",
       "  border: var(--sklearn-color-fitted-level-1) 1pt solid;\n",
       "  color: var(--sklearn-color-fitted-level-1);\n",
       "}\n",
       "\n",
       "/* On hover */\n",
       "div.sk-estimator:hover .sk-estimator-doc-link:hover,\n",
       ".sk-estimator-doc-link:hover,\n",
       "div.sk-label-container:hover .sk-estimator-doc-link:hover,\n",
       ".sk-estimator-doc-link:hover {\n",
       "  /* unfitted */\n",
       "  background-color: var(--sklearn-color-unfitted-level-3);\n",
       "  color: var(--sklearn-color-background);\n",
       "  text-decoration: none;\n",
       "}\n",
       "\n",
       "div.sk-estimator.fitted:hover .sk-estimator-doc-link.fitted:hover,\n",
       ".sk-estimator-doc-link.fitted:hover,\n",
       "div.sk-label-container:hover .sk-estimator-doc-link.fitted:hover,\n",
       ".sk-estimator-doc-link.fitted:hover {\n",
       "  /* fitted */\n",
       "  background-color: var(--sklearn-color-fitted-level-3);\n",
       "  color: var(--sklearn-color-background);\n",
       "  text-decoration: none;\n",
       "}\n",
       "\n",
       "/* Span, style for the box shown on hovering the info icon */\n",
       ".sk-estimator-doc-link span {\n",
       "  display: none;\n",
       "  z-index: 9999;\n",
       "  position: relative;\n",
       "  font-weight: normal;\n",
       "  right: .2ex;\n",
       "  padding: .5ex;\n",
       "  margin: .5ex;\n",
       "  width: min-content;\n",
       "  min-width: 20ex;\n",
       "  max-width: 50ex;\n",
       "  color: var(--sklearn-color-text);\n",
       "  box-shadow: 2pt 2pt 4pt #999;\n",
       "  /* unfitted */\n",
       "  background: var(--sklearn-color-unfitted-level-0);\n",
       "  border: .5pt solid var(--sklearn-color-unfitted-level-3);\n",
       "}\n",
       "\n",
       ".sk-estimator-doc-link.fitted span {\n",
       "  /* fitted */\n",
       "  background: var(--sklearn-color-fitted-level-0);\n",
       "  border: var(--sklearn-color-fitted-level-3);\n",
       "}\n",
       "\n",
       ".sk-estimator-doc-link:hover span {\n",
       "  display: block;\n",
       "}\n",
       "\n",
       "/* \"?\"-specific style due to the `<a>` HTML tag */\n",
       "\n",
       "#sk-container-id-1 a.estimator_doc_link {\n",
       "  float: right;\n",
       "  font-size: 1rem;\n",
       "  line-height: 1em;\n",
       "  font-family: monospace;\n",
       "  background-color: var(--sklearn-color-background);\n",
       "  border-radius: 1rem;\n",
       "  height: 1rem;\n",
       "  width: 1rem;\n",
       "  text-decoration: none;\n",
       "  /* unfitted */\n",
       "  color: var(--sklearn-color-unfitted-level-1);\n",
       "  border: var(--sklearn-color-unfitted-level-1) 1pt solid;\n",
       "}\n",
       "\n",
       "#sk-container-id-1 a.estimator_doc_link.fitted {\n",
       "  /* fitted */\n",
       "  border: var(--sklearn-color-fitted-level-1) 1pt solid;\n",
       "  color: var(--sklearn-color-fitted-level-1);\n",
       "}\n",
       "\n",
       "/* On hover */\n",
       "#sk-container-id-1 a.estimator_doc_link:hover {\n",
       "  /* unfitted */\n",
       "  background-color: var(--sklearn-color-unfitted-level-3);\n",
       "  color: var(--sklearn-color-background);\n",
       "  text-decoration: none;\n",
       "}\n",
       "\n",
       "#sk-container-id-1 a.estimator_doc_link.fitted:hover {\n",
       "  /* fitted */\n",
       "  background-color: var(--sklearn-color-fitted-level-3);\n",
       "}\n",
       "</style><div id=\"sk-container-id-1\" class=\"sk-top-container\"><div class=\"sk-text-repr-fallback\"><pre>XGBRegressor(alpha=0.0049894947342883815, base_score=None, booster=None,\n",
       "             callbacks=None, colsample_bylevel=None, colsample_bynode=None,\n",
       "             colsample_bytree=0.5, device=None, early_stopping_rounds=None,\n",
       "             enable_categorical=False, eval_metric=None, feature_types=None,\n",
       "             gamma=0.0014832545774497129, grow_policy=None,\n",
       "             importance_type=None, interaction_constraints=None,\n",
       "             lambda=0.007342571956423321, learning_rate=0.03263662172830031,\n",
       "             max_bin=None, max_cat_threshold=None, max_cat_to_onehot=None,\n",
       "             max_delta_step=None, max_depth=4, max_leaves=None,\n",
       "             min_child_weight=9, missing=nan, monotone_constraints=None,\n",
       "             multi_strategy=None, n_estimators=801, n_jobs=None, ...)</pre><b>In a Jupyter environment, please rerun this cell to show the HTML representation or trust the notebook. <br />On GitHub, the HTML representation is unable to render, please try loading this page with nbviewer.org.</b></div><div class=\"sk-container\" hidden><div class=\"sk-item\"><div class=\"sk-estimator fitted sk-toggleable\"><input class=\"sk-toggleable__control sk-hidden--visually\" id=\"sk-estimator-id-1\" type=\"checkbox\" checked><label for=\"sk-estimator-id-1\" class=\"sk-toggleable__label fitted sk-toggleable__label-arrow fitted\">&nbsp;XGBRegressor<span class=\"sk-estimator-doc-link fitted\">i<span>Fitted</span></span></label><div class=\"sk-toggleable__content fitted\"><pre>XGBRegressor(alpha=0.0049894947342883815, base_score=None, booster=None,\n",
       "             callbacks=None, colsample_bylevel=None, colsample_bynode=None,\n",
       "             colsample_bytree=0.5, device=None, early_stopping_rounds=None,\n",
       "             enable_categorical=False, eval_metric=None, feature_types=None,\n",
       "             gamma=0.0014832545774497129, grow_policy=None,\n",
       "             importance_type=None, interaction_constraints=None,\n",
       "             lambda=0.007342571956423321, learning_rate=0.03263662172830031,\n",
       "             max_bin=None, max_cat_threshold=None, max_cat_to_onehot=None,\n",
       "             max_delta_step=None, max_depth=4, max_leaves=None,\n",
       "             min_child_weight=9, missing=nan, monotone_constraints=None,\n",
       "             multi_strategy=None, n_estimators=801, n_jobs=None, ...)</pre></div> </div></div></div></div>"
      ],
      "text/plain": [
       "XGBRegressor(alpha=0.0049894947342883815, base_score=None, booster=None,\n",
       "             callbacks=None, colsample_bylevel=None, colsample_bynode=None,\n",
       "             colsample_bytree=0.5, device=None, early_stopping_rounds=None,\n",
       "             enable_categorical=False, eval_metric=None, feature_types=None,\n",
       "             gamma=0.0014832545774497129, grow_policy=None,\n",
       "             importance_type=None, interaction_constraints=None,\n",
       "             lambda=0.007342571956423321, learning_rate=0.03263662172830031,\n",
       "             max_bin=None, max_cat_threshold=None, max_cat_to_onehot=None,\n",
       "             max_delta_step=None, max_depth=4, max_leaves=None,\n",
       "             min_child_weight=9, missing=nan, monotone_constraints=None,\n",
       "             multi_strategy=None, n_estimators=801, n_jobs=None, ...)"
      ]
     },
     "execution_count": 13,
     "metadata": {},
     "output_type": "execute_result"
    }
   ],
   "source": [
    "df_drop = df.drop(['MEDIA_EM_MT', 'MEDIA_EM_LP', 'ALUNOS_ID_ESCOLA'], axis=1)\n",
    "X = df_drop\n",
    "y = df['MEDIA_EM_MT']\n",
    "X_train, X_test, y_train, y_test = train_test_split(X, y, test_size=0.2, random_state=42)\n",
    "\n",
    "parameters = {\n",
    "    'lambda': 0.007342571956423321, \n",
    "    'alpha': 0.0049894947342883815, \n",
    "    'colsample_bytree': 0.5, \n",
    "    'subsample': 0.7, \n",
    "    'learning_rate': 0.03263662172830031, \n",
    "    'n_estimators': 801, \n",
    "    'max_depth': 4, \n",
    "    'min_child_weight': 9, \n",
    "    'gamma': 0.0014832545774497129\n",
    "}\n",
    "\n",
    "\n",
    "model = XGBRegressor(**parameters)#LGBMRegressor(**parameters)\n",
    "# fit model\n",
    "model.fit(X_train, y_train)"
   ]
  },
  {
   "cell_type": "code",
   "execution_count": 14,
   "id": "af60275a-5078-4f6d-b496-c7480395477b",
   "metadata": {},
   "outputs": [
    {
     "name": "stderr",
     "output_type": "stream",
     "text": [
      "100%|===================| 10621/10674 [02:45<00:00]        "
     ]
    }
   ],
   "source": [
    "# compute SHAP values\n",
    "explainer = shap.Explainer(model, X)\n",
    "shap_values = explainer(X)"
   ]
  },
  {
   "cell_type": "code",
   "execution_count": 15,
   "id": "fea6fbe0-86e6-46bb-8c28-a9d784a183f7",
   "metadata": {},
   "outputs": [
    {
     "data": {
      "text/plain": [
       ".values =\n",
       "array([[ 2.10681066,  1.78957442,  0.69119385, ...,  0.29689084,\n",
       "         1.30396957,  0.98390038],\n",
       "       [-1.25689289,  1.68717114,  0.93039545, ..., -0.45972767,\n",
       "         0.44236923,  0.11420441],\n",
       "       [ 1.61236479, -1.63662815, -3.04713614, ..., -0.95211403,\n",
       "         1.09564758, -1.67356185],\n",
       "       ...,\n",
       "       [ 2.39736109, -1.1983179 , -0.72525895, ...,  0.61214018,\n",
       "        -1.51259644,  1.31150372],\n",
       "       [ 2.54077968, -0.96219824, -0.29222381, ...,  0.67398473,\n",
       "         0.81968006,  1.15127666],\n",
       "       [ 0.64733507, -1.08320105,  0.99317098, ...,  0.01226893,\n",
       "        -0.74410098,  0.95507939]])\n",
       "\n",
       ".base_values =\n",
       "array([273.6047303, 273.6047303, 273.6047303, ..., 273.6047303,\n",
       "       273.6047303, 273.6047303])\n",
       "\n",
       ".data =\n",
       "array([[0.03030303, 0.87878788, 0.21212121, ..., 0.15151515, 0.81818182,\n",
       "        0.1969697 ],\n",
       "       [0.07746479, 0.85211268, 0.21126761, ..., 0.18309859, 0.62676056,\n",
       "        0.11971831],\n",
       "       [0.03571429, 0.60714286, 0.60714286, ..., 0.21428571, 0.85714286,\n",
       "        0.03571429],\n",
       "       ...,\n",
       "       [0.03092784, 0.64948454, 0.25773196, ..., 0.1443299 , 0.46391753,\n",
       "        0.22680412],\n",
       "       [0.01092896, 0.68852459, 0.23497268, ..., 0.09836066, 0.68852459,\n",
       "        0.18579235],\n",
       "       [0.03870968, 0.67096774, 0.18709677, ..., 0.16129032, 0.5483871 ,\n",
       "        0.18709677]])"
      ]
     },
     "execution_count": 15,
     "metadata": {},
     "output_type": "execute_result"
    }
   ],
   "source": [
    "feature_importance = pd.DataFrame({\n",
    "    'feature': X.columns,\n",
    "    'importance': np.abs(shap_values.values).mean(axis=0)\n",
    "})\n",
    "\n",
    "# Ordenando e selecionando as 20 mais importantes\n",
    "top_20_features = feature_importance.sort_values(by='importance', ascending=False).head(20)\n",
    "important_features = top_20_features['feature'].tolist()\n",
    "\n",
    "# Identificando os índices das 20 principais features no array\n",
    "important_indices = [list(X.columns).index(feature) for feature in important_features]\n",
    "\n",
    "# Filtrando shap_values para as 20 principais características\n",
    "filtered_shap_values = shap_values[:, important_indices]"
   ]
  },
  {
   "cell_type": "markdown",
   "id": "1473ca60-2ffe-46a2-b3bf-41897af42550",
   "metadata": {},
   "source": [
    "# BeeswarmPlot"
   ]
  },
  {
   "cell_type": "markdown",
   "id": "b5bbf6cc-70ee-48c0-a398-79a8d2cfa904",
   "metadata": {},
   "source": [
    "Generates a beeswarm plot from data.\n",
    "\n",
    "Parameters:\n",
    "- **explanation**: a shap's Explanation object"
   ]
  },
  {
   "cell_type": "code",
   "execution_count": 16,
   "id": "962384c1-6981-48cc-bd15-7611a343b092",
   "metadata": {},
   "outputs": [
    {
     "data": {
      "application/vnd.jupyter.widget-view+json": {
       "model_id": "871087d139b24ed79f5bf44c7d6c5976",
       "version_major": 2,
       "version_minor": 0
      },
      "text/plain": [
       "BeeswarmPlot(baseValue=np.float64(273.6047302957461), dataRecords=[{'feature_names': 'Q017A_Lazer_Nao_Uso_Temp…"
      ]
     },
     "metadata": {},
     "output_type": "display_data"
    }
   ],
   "source": [
    "from d3vis_ipynb import BeeswarmPlot\n",
    "beeswarmPlot = BeeswarmPlot(explanation=filtered_shap_values[:500])\n",
    "beeswarmPlot"
   ]
  },
  {
   "cell_type": "markdown",
   "id": "c3f43ce2-cc50-42fb-a99c-2f47c573d3a3",
   "metadata": {},
   "source": [
    "# DecisionPlot"
   ]
  },
  {
   "cell_type": "markdown",
   "id": "630c9670-7ede-4f32-8865-82d309d05b5b",
   "metadata": {},
   "source": [
    "Generates a decision plot from data.\n",
    "\n",
    "Parameters:\n",
    "- **explanation**: a shap's Explanation object"
   ]
  },
  {
   "cell_type": "code",
   "execution_count": 18,
   "id": "e93569d4-a9b7-460c-8960-0b762b4696fd",
   "metadata": {},
   "outputs": [
    {
     "data": {
      "application/vnd.jupyter.widget-view+json": {
       "model_id": "324017c3b402469b8fc6faf546464eee",
       "version_major": 2,
       "version_minor": 0
      },
      "text/plain": [
       "DecisionPlot(baseValue=np.float64(273.6047302957461), dataRecords=[{'feature_names': 'Q017A_Lazer_Nao_Uso_Temp…"
      ]
     },
     "metadata": {},
     "output_type": "display_data"
    }
   ],
   "source": [
    "from d3vis_ipynb import DecisionPlot\n",
    "decisionPlot = DecisionPlot(explanation=filtered_shap_values[:50])\n",
    "decisionPlot"
   ]
  },
  {
   "cell_type": "markdown",
   "id": "129cf96b-7fab-47a0-863f-c289716b9a5b",
   "metadata": {},
   "source": [
    "# ForcePlot"
   ]
  },
  {
   "cell_type": "markdown",
   "id": "7c527602-82a3-49a3-91c5-a51867918ff8",
   "metadata": {},
   "source": [
    "Generates a waterfall plot from data.\n",
    "\n",
    "Parameters:\n",
    "- **baseValue**: a float with the base value\n",
    "- **explanation**: a shap's Explanation object"
   ]
  },
  {
   "cell_type": "markdown",
   "id": "6fa5f27e-9df1-439f-8591-c77770cfb7b9",
   "metadata": {},
   "source": [
    "Can be initialized two different ways: with a *shap._explanation.Explanation* object or with a *pandas.core.frame.DataFrame* object."
   ]
  },
  {
   "cell_type": "code",
   "execution_count": 19,
   "id": "53480882-da25-4abf-8525-f21ee7acb864",
   "metadata": {},
   "outputs": [
    {
     "data": {
      "application/vnd.jupyter.widget-view+json": {
       "model_id": "9f051076844b4979831c3dae65f862d8",
       "version_major": 2,
       "version_minor": 0
      },
      "text/plain": [
       "ForcePlot(baseValue=np.float64(273.6047302957461), dataRecords=[{'data': 0.0303030303030303, 'feature_names': …"
      ]
     },
     "metadata": {},
     "output_type": "display_data"
    }
   ],
   "source": [
    "from d3vis_ipynb import ForcePlot\n",
    "forcePlot = ForcePlot(explanation=filtered_shap_values[0])\n",
    "forcePlot"
   ]
  },
  {
   "cell_type": "markdown",
   "id": "1f06bddd-6516-44e5-9820-ccd05a86368d",
   "metadata": {},
   "source": [
    "Click on the polygons and run the cell bellow:"
   ]
  },
  {
   "cell_type": "markdown",
   "id": "14c74f5d-0703-4a3b-9795-b520278a4df5",
   "metadata": {},
   "source": [
    "# WaterfallPlot"
   ]
  },
  {
   "cell_type": "markdown",
   "id": "76b9e6f6-f9dd-4d08-b52b-3c3b918bed58",
   "metadata": {},
   "source": [
    "Generates a waterfall plot from data.\n",
    "\n",
    "Parameters:\n",
    "- **baseValue**: a float with the base value\n",
    "- **explanation**: a shap's Explanation object"
   ]
  },
  {
   "cell_type": "markdown",
   "id": "e643776f-40f1-4604-8e51-71ca6b2e4e89",
   "metadata": {},
   "source": [
    "Can be initialized two different ways: with a *shap._explanation.Explanation* object or with a *pandas.core.frame.DataFrame* object."
   ]
  },
  {
   "cell_type": "code",
   "execution_count": 24,
   "id": "c8715966-8a5a-4c5c-bbb6-908fe959edde",
   "metadata": {},
   "outputs": [
    {
     "data": {
      "application/vnd.jupyter.widget-view+json": {
       "model_id": "983b135ff54042f395c4ae4f6965fdeb",
       "version_major": 2,
       "version_minor": 0
      },
      "text/plain": [
       "WaterfallPlot(baseValue=np.float64(273.6047302957461), dataRecords=[{'data': 0.0303030303030303, 'feature_name…"
      ]
     },
     "metadata": {},
     "output_type": "display_data"
    }
   ],
   "source": [
    "from d3vis_ipynb import WaterfallPlot\n",
    "waterfallPlot = WaterfallPlot(explanation=filtered_shap_values[0])\n",
    "waterfallPlot"
   ]
  },
  {
   "cell_type": "markdown",
   "id": "9364c7be-fe73-41be-84a3-248bc7d0dc44",
   "metadata": {},
   "source": [
    "Click on the polygons and run the cell bellow:"
   ]
  },
  {
   "cell_type": "code",
   "execution_count": null,
   "id": "26b021bf-29fc-4a61-a367-d76419ab8426",
   "metadata": {},
   "outputs": [],
   "source": [
    "# waterfallPlot.selectedValues"
   ]
  }
 ],
 "metadata": {
  "kernelspec": {
   "display_name": "Python 3 (ipykernel)",
   "language": "python",
   "name": "python3"
  },
  "language_info": {
   "codemirror_mode": {
    "name": "ipython",
    "version": 3
   },
   "file_extension": ".py",
   "mimetype": "text/x-python",
   "name": "python",
   "nbconvert_exporter": "python",
   "pygments_lexer": "ipython3",
   "version": "3.9.0"
  }
 },
 "nbformat": 4,
 "nbformat_minor": 5
}
