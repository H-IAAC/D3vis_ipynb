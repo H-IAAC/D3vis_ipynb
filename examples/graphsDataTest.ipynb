{
 "cells": [
  {
   "cell_type": "markdown",
   "id": "eea13071-4071-465f-a202-97ec2edcbf2d",
   "metadata": {},
   "source": [
    "[![Open In Colab](https://colab.research.google.com/assets/colab-badge.svg)](https://colab.research.google.com/github/H-IAAC/d3vis_ipynb/blob/main/examples/graphs.ipynb)"
   ]
  },
  {
   "cell_type": "markdown",
   "id": "5d115a86-64a2-4b7d-a5a1-a34c2738a2a4",
   "metadata": {},
   "source": [
    "# Import Datasets"
   ]
  },
  {
   "cell_type": "code",
   "execution_count": null,
   "id": "247eba0b-3f84-4c97-a5c1-423a6330c821",
   "metadata": {
    "jp-MarkdownHeadingCollapsed": true
   },
   "outputs": [],
   "source": [
    "from sklearn.svm import OneClassSVM\n",
    "import pandas as pd\n",
    "from sklearn.ensemble import IsolationForest\n",
    "import numpy as np\n",
    "from xgboost import XGBClassifier, XGBRegressor\n",
    "from sklearn.model_selection import train_test_split\n",
    "import shap\n",
    "import gdown\n",
    "import os\n",
    "from d3vis_ipynb import BarPlot, HistogramPlot, ScatterPlot, LinearPlot, RangeSlider, MatrixLayout, MapPlot, BeeswarmPlot"
   ]
  },
  {
   "cell_type": "code",
   "execution_count": null,
   "id": "cde3eb9c-9d7b-4aa4-ae60-e18d25b0b854",
   "metadata": {},
   "outputs": [],
   "source": [
    "output_path = \"data/dados_saeb.csv\"\n",
    " \n",
    "if not os.path.isfile(output_path):\n",
    "    if not os.path.exists(\"data\"):\n",
    "        os.makedirs(\"data\")\n",
    "    file_id = \"1ClwCEiXc2bqM5bZ__u1Zxw0Q39yJDqjE\"\n",
    "    gdown.download(f\"https://drive.google.com/uc?id={file_id}\", output_path, quiet=False)\n",
    " \n",
    "df = pd.read_csv(output_path, encoding='utf-8', sep=';')"
   ]
  },
  {
   "cell_type": "code",
   "execution_count": null,
   "id": "469d4fbc-1f1f-4bc9-b1aa-38899237faaa",
   "metadata": {},
   "outputs": [],
   "source": [
    "df.columns = df.columns.str.replace(\"ALUNOS_PORCENTAGEM_\", \"\", regex=False)\n",
    "df.columns = df.columns.str.replace(\"PROFESSOR_PORCENTAGEM_\", \"\", regex=False)"
   ]
  },
  {
   "cell_type": "code",
   "execution_count": null,
   "id": "04e29b00-5d46-434b-820c-5b1bfcc8a0f0",
   "metadata": {},
   "outputs": [],
   "source": [
    "df_drop = df.drop(['MEDIA_EM_MT', 'MEDIA_EM_LP', 'ALUNOS_ID_ESCOLA'], axis=1)\n",
    "X = df_drop\n",
    "y = df['MEDIA_EM_MT']\n",
    "X_train, X_test, y_train, y_test = train_test_split(X, y, test_size=0.2, random_state=42)\n",
    "\n",
    "parameters = {\n",
    "    'lambda': 0.007342571956423321, \n",
    "    'alpha': 0.0049894947342883815, \n",
    "    'colsample_bytree': 0.5, \n",
    "    'subsample': 0.7, \n",
    "    'learning_rate': 0.03263662172830031, \n",
    "    'n_estimators': 801, \n",
    "    'max_depth': 4, \n",
    "    'min_child_weight': 9, \n",
    "    'gamma': 0.0014832545774497129\n",
    "}\n",
    "\n",
    "\n",
    "model = XGBRegressor(**parameters)#LGBMRegressor(**parameters)\n",
    "# fit model\n",
    "model.fit(X_train, y_train)"
   ]
  },
  {
   "cell_type": "code",
   "execution_count": null,
   "id": "af60275a-5078-4f6d-b496-c7480395477b",
   "metadata": {},
   "outputs": [],
   "source": [
    "# compute SHAP values\n",
    "explainer = shap.Explainer(model, X)\n",
    "shap_values = explainer(X)"
   ]
  },
  {
   "cell_type": "code",
   "execution_count": null,
   "id": "fea6fbe0-86e6-46bb-8c28-a9d784a183f7",
   "metadata": {},
   "outputs": [],
   "source": [
    "feature_importance = pd.DataFrame({\n",
    "    'feature': X.columns,\n",
    "    'importance': np.abs(shap_values.values).mean(axis=0)\n",
    "})\n",
    "\n",
    "# Ordenando e selecionando as 20 mais importantes\n",
    "top_20_features = feature_importance.sort_values(by='importance', ascending=False).head(20)\n",
    "important_features = top_20_features['feature'].tolist()\n",
    "\n",
    "# Identificando os índices das 20 principais features no array\n",
    "important_indices = [list(X.columns).index(feature) for feature in important_features]\n",
    "\n",
    "# Filtrando shap_values para as 20 principais características\n",
    "filtered_shap_values = shap_values[:, important_indices]"
   ]
  },
  {
   "cell_type": "markdown",
   "id": "1473ca60-2ffe-46a2-b3bf-41897af42550",
   "metadata": {},
   "source": [
    "# BeeswarmPlot"
   ]
  },
  {
   "cell_type": "markdown",
   "id": "b5bbf6cc-70ee-48c0-a398-79a8d2cfa904",
   "metadata": {},
   "source": [
    "Generates a beeswarm plot from data.\n",
    "\n",
    "Parameters:\n",
    "- **explanation**: a shap's Explanation object"
   ]
  },
  {
   "cell_type": "code",
   "execution_count": null,
   "id": "962384c1-6981-48cc-bd15-7611a343b092",
   "metadata": {},
   "outputs": [],
   "source": [
    "from d3vis_ipynb import BeeswarmPlot\n",
    "beeswarmPlot = BeeswarmPlot(explanation=filtered_shap_values[:500])\n",
    "beeswarmPlot"
   ]
  },
  {
   "cell_type": "markdown",
   "id": "c3f43ce2-cc50-42fb-a99c-2f47c573d3a3",
   "metadata": {},
   "source": [
    "# DecisionPlot"
   ]
  },
  {
   "cell_type": "markdown",
   "id": "630c9670-7ede-4f32-8865-82d309d05b5b",
   "metadata": {},
   "source": [
    "Generates a decision plot from data.\n",
    "\n",
    "Parameters:\n",
    "- **explanation**: a shap's Explanation object"
   ]
  },
  {
   "cell_type": "code",
   "execution_count": null,
   "id": "e93569d4-a9b7-460c-8960-0b762b4696fd",
   "metadata": {},
   "outputs": [],
   "source": [
    "from d3vis_ipynb import DecisionPlot\n",
    "decisionPlot = DecisionPlot(explanation=filtered_shap_values[:50])\n",
    "decisionPlot"
   ]
  },
  {
   "cell_type": "markdown",
   "id": "129cf96b-7fab-47a0-863f-c289716b9a5b",
   "metadata": {},
   "source": [
    "# ForcePlot"
   ]
  },
  {
   "cell_type": "markdown",
   "id": "7c527602-82a3-49a3-91c5-a51867918ff8",
   "metadata": {},
   "source": [
    "Generates a waterfall plot from data.\n",
    "\n",
    "Parameters:\n",
    "- **baseValue**: a float with the base value\n",
    "- **explanation**: a shap's Explanation object"
   ]
  },
  {
   "cell_type": "markdown",
   "id": "6fa5f27e-9df1-439f-8591-c77770cfb7b9",
   "metadata": {},
   "source": [
    "Can be initialized two different ways: with a *shap._explanation.Explanation* object or with a *pandas.core.frame.DataFrame* object."
   ]
  },
  {
   "cell_type": "code",
   "execution_count": null,
   "id": "53480882-da25-4abf-8525-f21ee7acb864",
   "metadata": {},
   "outputs": [],
   "source": [
    "from d3vis_ipynb import ForcePlot\n",
    "forcePlot = ForcePlot(explanation=filtered_shap_values[0])\n",
    "forcePlot"
   ]
  },
  {
   "cell_type": "markdown",
   "id": "1f06bddd-6516-44e5-9820-ccd05a86368d",
   "metadata": {},
   "source": [
    "Click on the polygons and run the cell bellow:"
   ]
  },
  {
   "cell_type": "markdown",
   "id": "14c74f5d-0703-4a3b-9795-b520278a4df5",
   "metadata": {},
   "source": [
    "# WaterfallPlot"
   ]
  },
  {
   "cell_type": "markdown",
   "id": "76b9e6f6-f9dd-4d08-b52b-3c3b918bed58",
   "metadata": {},
   "source": [
    "Generates a waterfall plot from data.\n",
    "\n",
    "Parameters:\n",
    "- **baseValue**: a float with the base value\n",
    "- **explanation**: a shap's Explanation object"
   ]
  },
  {
   "cell_type": "markdown",
   "id": "e643776f-40f1-4604-8e51-71ca6b2e4e89",
   "metadata": {},
   "source": [
    "Can be initialized two different ways: with a *shap._explanation.Explanation* object or with a *pandas.core.frame.DataFrame* object."
   ]
  },
  {
   "cell_type": "code",
   "execution_count": null,
   "id": "c8715966-8a5a-4c5c-bbb6-908fe959edde",
   "metadata": {},
   "outputs": [],
   "source": [
    "from d3vis_ipynb import WaterfallPlot\n",
    "waterfallPlot = WaterfallPlot(explanation=filtered_shap_values[0])\n",
    "waterfallPlot"
   ]
  },
  {
   "cell_type": "markdown",
   "id": "9364c7be-fe73-41be-84a3-248bc7d0dc44",
   "metadata": {},
   "source": [
    "Click on the polygons and run the cell bellow:"
   ]
  },
  {
   "cell_type": "code",
   "execution_count": null,
   "id": "26b021bf-29fc-4a61-a367-d76419ab8426",
   "metadata": {},
   "outputs": [],
   "source": [
    "# waterfallPlot.selectedValues"
   ]
  }
 ],
 "metadata": {
  "kernelspec": {
   "display_name": "Python 3 (ipykernel)",
   "language": "python",
   "name": "python3"
  },
  "language_info": {
   "codemirror_mode": {
    "name": "ipython",
    "version": 3
   },
   "file_extension": ".py",
   "mimetype": "text/x-python",
   "name": "python",
   "nbconvert_exporter": "python",
   "pygments_lexer": "ipython3",
   "version": "3.11.9"
  }
 },
 "nbformat": 4,
 "nbformat_minor": 5
}
