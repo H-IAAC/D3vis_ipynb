{
 "cells": [
  {
   "cell_type": "markdown",
   "id": "eea13071-4071-465f-a202-97ec2edcbf2d",
   "metadata": {},
   "source": [
    "[![Open In Colab](https://colab.research.google.com/assets/colab-badge.svg)](https://colab.research.google.com/github/H-IAAC/d3vis_ipynb/blob/main/examples/graphs.ipynb)"
   ]
  },
  {
   "cell_type": "markdown",
   "id": "5d115a86-64a2-4b7d-a5a1-a34c2738a2a4",
   "metadata": {},
   "source": [
    "# Import Datasets"
   ]
  },
  {
   "cell_type": "code",
   "execution_count": null,
   "id": "247eba0b-3f84-4c97-a5c1-423a6330c821",
   "metadata": {
    "jp-MarkdownHeadingCollapsed": true
   },
   "outputs": [],
   "source": [
    "import statsmodels.api as sm\n",
    "import ssl\n",
    "ssl._create_default_https_context = ssl._create_unverified_context\n",
    "iris = sm.datasets.get_rdataset('iris').data\n",
    "iris.head()"
   ]
  },
  {
   "cell_type": "code",
   "execution_count": null,
   "id": "cde3eb9c-9d7b-4aa4-ae60-e18d25b0b854",
   "metadata": {},
   "outputs": [],
   "source": [
    "gas = sm.datasets.get_rdataset('OECDGas', 'AER').data\n",
    "gas.head()"
   ]
  },
  {
   "cell_type": "code",
   "execution_count": null,
   "id": "af60275a-5078-4f6d-b496-c7480395477b",
   "metadata": {},
   "outputs": [],
   "source": [
    "import xgboost\n",
    "import shap\n",
    "import ssl\n",
    "ssl._create_default_https_context = ssl._create_unverified_context\n",
    "# train XGBoost model\n",
    "X, y = shap.datasets.adult()\n",
    "model = xgboost.XGBClassifier(n_estimators=100, max_depth=2).fit(X, y)\n",
    "\n",
    "# compute SHAP values\n",
    "explainer = shap.Explainer(model, X)\n",
    "shap_values = explainer(X[:1000])"
   ]
  },
  {
   "cell_type": "markdown",
   "id": "403e72f2-139c-4a5f-b8a6-b5769402bbf6",
   "metadata": {},
   "source": [
    "# BarPlot"
   ]
  },
  {
   "cell_type": "markdown",
   "id": "a21e9a8f-c0d7-46f9-860f-2831c44bbc06",
   "metadata": {},
   "source": [
    "Generates a bar plot from data.\n",
    "\n",
    "Parameters:\n",
    "- **data**: a pandas' DataFrame\n",
    "- **direction**: plot bars on \"vertical\" or \"horizontal\" direction\n",
    "- **x**: a string representing the X axis\n",
    "- **y**: a string representing the Y axis\n",
    "- **hue**: a string representing to which variable the X axis is going to be grouped by (optional)"
   ]
  },
  {
   "cell_type": "code",
   "execution_count": null,
   "id": "28d759ef-165f-4a78-93d5-e9b8e7ec82cc",
   "metadata": {},
   "outputs": [],
   "source": [
    "from d3vis_ipynb import BarPlot\n",
    "barplot = BarPlot(data=iris, x='Sepal.Width', y='Sepal.Length')\n",
    "barplot"
   ]
  },
  {
   "cell_type": "markdown",
   "id": "ddce6f52-0ec2-44d8-a548-2f60ca259f69",
   "metadata": {},
   "source": [
    "Whenever a widget's parameter is changed the image updates automaticaly. Uncoment the lines bellow and test each line:"
   ]
  },
  {
   "cell_type": "code",
   "execution_count": null,
   "id": "93d31d28-2001-4755-a732-8b60938ca312",
   "metadata": {},
   "outputs": [],
   "source": [
    "# barplot.x = \"Petal.Length\"\n",
    "# barplot.data = barplot.data[:20]"
   ]
  },
  {
   "cell_type": "markdown",
   "id": "7525d699-b77f-49b4-9973-8884a16683bc",
   "metadata": {},
   "source": [
    "Same graph, but with hue:"
   ]
  },
  {
   "cell_type": "code",
   "execution_count": null,
   "id": "fd40ff75-bbc1-46f3-a76d-626e3c98ef79",
   "metadata": {},
   "outputs": [],
   "source": [
    "barplot2 = BarPlot(data=iris, x='Sepal.Width', y='Sepal.Length', hue='Species')\n",
    "barplot2"
   ]
  },
  {
   "cell_type": "markdown",
   "id": "9a2a4584-1848-42a3-a66b-a214b5ffaed3",
   "metadata": {},
   "source": [
    "Horizontal graphs:"
   ]
  },
  {
   "cell_type": "code",
   "execution_count": null,
   "id": "1873d9a1-6183-4add-bfa9-73253a664e62",
   "metadata": {},
   "outputs": [],
   "source": [
    "barplot2 = BarPlot(data=iris, direction='horizontal', x='Sepal.Length', y='Sepal.Width')\n",
    "barplot2"
   ]
  },
  {
   "cell_type": "code",
   "execution_count": null,
   "id": "c0117863-10f3-4044-98b6-81d053fb8a94",
   "metadata": {},
   "outputs": [],
   "source": [
    "barplot3 = BarPlot(data=iris, direction='horizontal', x='Sepal.Length', y='Sepal.Width', hue='Species')\n",
    "barplot3"
   ]
  },
  {
   "cell_type": "markdown",
   "id": "1473ca60-2ffe-46a2-b3bf-41897af42550",
   "metadata": {},
   "source": [
    "# BeeswarmPlot"
   ]
  },
  {
   "cell_type": "markdown",
   "id": "b5bbf6cc-70ee-48c0-a398-79a8d2cfa904",
   "metadata": {},
   "source": [
    "Generates a beeswarm plot from data.\n",
    "\n",
    "Parameters:\n",
    "- **explanation**: a shap's Explanation object"
   ]
  },
  {
   "cell_type": "code",
   "execution_count": null,
   "id": "962384c1-6981-48cc-bd15-7611a343b092",
   "metadata": {},
   "outputs": [],
   "source": [
    "from d3vis_ipynb import BeeswarmPlot\n",
    "beeswarmPlot = BeeswarmPlot(explanation=shap_values[:200])\n",
    "beeswarmPlot"
   ]
  },
  {
   "cell_type": "markdown",
   "id": "c3f43ce2-cc50-42fb-a99c-2f47c573d3a3",
   "metadata": {},
   "source": [
    "# DecisionPlot"
   ]
  },
  {
   "cell_type": "markdown",
   "id": "630c9670-7ede-4f32-8865-82d309d05b5b",
   "metadata": {},
   "source": [
    "Generates a decision plot from data.\n",
    "\n",
    "Parameters:\n",
    "- **explanation**: a shap's Explanation object"
   ]
  },
  {
   "cell_type": "code",
   "execution_count": null,
   "id": "e93569d4-a9b7-460c-8960-0b762b4696fd",
   "metadata": {},
   "outputs": [],
   "source": [
    "from d3vis_ipynb import DecisionPlot\n",
    "decisionPlot = DecisionPlot(explanation=shap_values[:20])\n",
    "decisionPlot"
   ]
  },
  {
   "cell_type": "markdown",
   "id": "129cf96b-7fab-47a0-863f-c289716b9a5b",
   "metadata": {},
   "source": [
    "# ForcePlot"
   ]
  },
  {
   "cell_type": "markdown",
   "id": "7c527602-82a3-49a3-91c5-a51867918ff8",
   "metadata": {},
   "source": [
    "Generates a waterfall plot from data.\n",
    "\n",
    "Parameters:\n",
    "- **data**: a pandas' DataFrame\n",
    "- **x**: a string representing the X axis\n",
    "- **y**: a string representing the Y axis\n",
    "- **baseValue**: a float with the base value\n",
    "- **explanation**: a shap's Explanation object"
   ]
  },
  {
   "cell_type": "markdown",
   "id": "6fa5f27e-9df1-439f-8591-c77770cfb7b9",
   "metadata": {},
   "source": [
    "Can be initialized two different ways: with a *shap._explanation.Explanation* object or with a *pandas.core.frame.DataFrame* object."
   ]
  },
  {
   "cell_type": "code",
   "execution_count": null,
   "id": "53480882-da25-4abf-8525-f21ee7acb864",
   "metadata": {},
   "outputs": [],
   "source": [
    "from d3vis_ipynb import ForcePlot\n",
    "forcePlot = ForcePlot(explanation=shap_values[0])\n",
    "forcePlot"
   ]
  },
  {
   "cell_type": "code",
   "execution_count": null,
   "id": "eb010773-0761-44c2-8b24-be04f7537b52",
   "metadata": {},
   "outputs": [],
   "source": [
    "import pandas as pd\n",
    "shap_df = pd.DataFrame()\n",
    "shap_df.insert(0, \"xAxis\", shap_values[0].values)\n",
    "shap_df.insert(0, \"yAxis\", shap_values[0].feature_names)\n",
    "\n",
    "forcePlot2 = ForcePlot(data=shap_df, x=\"xAxis\", y=\"yAxis\", baseValue=shap_values[0].base_values)\n",
    "forcePlot2"
   ]
  },
  {
   "cell_type": "markdown",
   "id": "4e97ad06-be02-4ffc-963f-4741c2cdf433",
   "metadata": {},
   "source": [
    "# HeatmapPlot"
   ]
  },
  {
   "cell_type": "markdown",
   "id": "c623f51a-d222-4acb-b67d-44945b258306",
   "metadata": {},
   "source": [
    "Generates a heatmap plot from data.\n",
    "\n",
    "Parameters:\n",
    "- **data**: a pandas' DataFrame\n",
    "- **xValues**: a list with the X axis values (optional)\n",
    "- **yValues**: a list with the Y axis values (optional)"
   ]
  },
  {
   "cell_type": "code",
   "execution_count": null,
   "id": "7e0ef3ff-828f-4b97-9ef8-e6d8b8b37eb0",
   "metadata": {},
   "outputs": [],
   "source": [
    "from d3vis_ipynb import HeatmapPlot\n",
    "pivoted_gas = gas.pivot(index=\"country\", columns=\"year\", values=\"price\")\n",
    "heatmap = HeatmapPlot(pivoted_gas)\n",
    "heatmap"
   ]
  },
  {
   "cell_type": "markdown",
   "id": "58a3563c-99aa-4805-980f-b17febab0035",
   "metadata": {},
   "source": [
    "# HistogramPlot"
   ]
  },
  {
   "cell_type": "markdown",
   "id": "deabf5a4-2227-46e4-beaa-5bb86a38c3e0",
   "metadata": {},
   "source": [
    "Generates a histogram plot from data.\n",
    "\n",
    "Parameters:\n",
    "- **data**: a pandas' DataFrame\n",
    "- **x**: a string representing the X axis"
   ]
  },
  {
   "cell_type": "code",
   "execution_count": null,
   "id": "476fdec7-cb4d-4587-b4f1-e92c56849c7d",
   "metadata": {},
   "outputs": [],
   "source": [
    "from d3vis_ipynb import HistogramPlot\n",
    "histplot = HistogramPlot(data=iris, x='Petal.Length')\n",
    "histplot"
   ]
  },
  {
   "cell_type": "markdown",
   "id": "b630bf8a-09de-4a7a-91c8-5743a597b0ae",
   "metadata": {},
   "source": [
    "# RidgelinePlot"
   ]
  },
  {
   "cell_type": "markdown",
   "id": "ac3ea6bf-d39b-4414-8545-ea78942f16d3",
   "metadata": {},
   "source": [
    "Generates a ridgeline plot from data.\n",
    "\n",
    "Parameters:\n",
    "- **data**: a pandas' DataFrame\n",
    "- **xAxes**: a list representing the X axes along the Y axis"
   ]
  },
  {
   "cell_type": "code",
   "execution_count": null,
   "id": "fdffae0f-946a-4531-a04b-db1698b3cb1e",
   "metadata": {},
   "outputs": [],
   "source": [
    "from d3vis_ipynb import RidgelinePlot\n",
    "ridge = RidgelinePlot(data=iris, xAxes=['Petal.Length', 'Petal.Width', 'Sepal.Width'])\n",
    "ridge"
   ]
  },
  {
   "cell_type": "markdown",
   "id": "dbe6359a-de38-47e0-8801-9f4dc09d649a",
   "metadata": {},
   "source": [
    "# ScatterPlot"
   ]
  },
  {
   "cell_type": "markdown",
   "id": "685ecdad-0e2f-42c2-8122-2b4832c18c73",
   "metadata": {},
   "source": [
    "Generates a scatter plot from data.\n",
    "\n",
    "Parameters:\n",
    "- **data**: a pandas' DataFrame\n",
    "- **x**: a string representing the X axis\n",
    "- **y**: a string representing the Y axis\n",
    "- **hue**: a string representing to which variable the dots are going to be collored by (optional)\n",
    "\n",
    "Functions:\n",
    "- **createLine(id, position, color, dashed, direction)**: Create a line in from of graph, can be horizontal or vertical.\n",
    "- **updateLine(id, position, color, dashed, direction)**: Update one of the lines created.\n",
    "- **removeLine(id)**: Remove one of the lines.\n",
    "- **removeAllLines()**: Remove all lines.\n",
    "\n",
    "Callbacks:\n",
    "- **on_click_value**: will be called when a dot is clicked. Change the value of *clickedValue*\n",
    "- **on_select_values**: will be called when multiple dots are selected. Change the value of *selectedValues*"
   ]
  },
  {
   "cell_type": "code",
   "execution_count": null,
   "id": "1522e302-3048-45a5-9aa3-4a4b181b0039",
   "metadata": {},
   "outputs": [],
   "source": [
    "from d3vis_ipynb import ScatterPlot\n",
    "scatterplot = ScatterPlot(data = iris, x = 'Sepal.Length', y = 'Sepal.Width', hue = \"Species\")\n",
    "scatterplot"
   ]
  },
  {
   "cell_type": "markdown",
   "id": "1cda2c94-1935-4845-9923-edd24d32a6a4",
   "metadata": {},
   "source": [
    "Create a line:"
   ]
  },
  {
   "cell_type": "code",
   "execution_count": null,
   "id": "f36c168f-de71-497f-841e-ba59a7883fec",
   "metadata": {},
   "outputs": [],
   "source": [
    "# scatterplot.createLine(\"line1\", 6)"
   ]
  },
  {
   "cell_type": "markdown",
   "id": "b06655ae-4c07-42d8-9d74-1de7eab5f081",
   "metadata": {},
   "source": [
    "Create a horizontal line:"
   ]
  },
  {
   "cell_type": "code",
   "execution_count": null,
   "id": "230397c7-f7a5-4c9a-8aa3-aa916e77f2ef",
   "metadata": {},
   "outputs": [],
   "source": [
    "# scatterplot.createLine(\"oi\", 3, \"red\", False, \"horizontal\")"
   ]
  },
  {
   "cell_type": "markdown",
   "id": "1f7ebc87-515f-4e91-a976-7a664159154f",
   "metadata": {},
   "source": [
    "Update line position:"
   ]
  },
  {
   "cell_type": "code",
   "execution_count": null,
   "id": "f042d107-1410-43da-92f8-abfab58bbac8",
   "metadata": {},
   "outputs": [],
   "source": [
    "import time\n",
    "def moveLine():\n",
    "    inc = 0.1\n",
    "    totalTime = 0\n",
    "    position = scatterplot.lines[\"line1\"][\"position\"]\n",
    "    while(totalTime < 10):\n",
    "        scatterplot.updateLine(\"line1\", position)\n",
    "        position += inc\n",
    "        if position >= 8: inc = -0.1\n",
    "        if position <= 4: inc = 0.1\n",
    "        time.sleep(0.1)\n",
    "        totalTime += 0.1\n",
    "\n",
    "# moveLine()        "
   ]
  },
  {
   "cell_type": "markdown",
   "id": "598f2ed1-3a7c-4a7f-9bf2-82aa2f450483",
   "metadata": {},
   "source": [
    "Remove all lines:"
   ]
  },
  {
   "cell_type": "code",
   "execution_count": null,
   "id": "32803953-f61e-4a48-bbfa-0bf754d2fe5f",
   "metadata": {},
   "outputs": [],
   "source": [
    "# scatterplot.removeAllLines()"
   ]
  },
  {
   "cell_type": "markdown",
   "id": "f128b03a-f9b1-42fa-b9ee-d9e2b0d2e3b5",
   "metadata": {},
   "source": [
    "Click and drag the mouse to select multiple dots, then run the cell bellow:"
   ]
  },
  {
   "cell_type": "code",
   "execution_count": null,
   "id": "0cda63cd-1d85-4a91-af05-eebb9ba6a8fc",
   "metadata": {},
   "outputs": [],
   "source": [
    "# scatterplot.selectedValues"
   ]
  },
  {
   "cell_type": "markdown",
   "id": "53e09a0c-73c7-44e4-a15c-44324d21f2ce",
   "metadata": {},
   "source": [
    "Using a callback to define a relationship between a scatter plot and a bar plot:"
   ]
  },
  {
   "cell_type": "code",
   "execution_count": null,
   "id": "19df9519-1d33-4cd2-9d09-b8c7f6fbb3a7",
   "metadata": {},
   "outputs": [],
   "source": [
    "scatterplot2 = ScatterPlot(data = iris, x = 'Sepal.Length', y = 'Sepal.Width', hue = \"Species\")\n",
    "barplot3 = BarPlot(data=iris, x='Sepal.Length', y='Sepal.Width')\n",
    "\n",
    "def on_selected(values):\n",
    "    barplot3.data = scatterplot2.selectedValues\n",
    "\n",
    "scatterplot2.on_select_values(on_selected)"
   ]
  },
  {
   "cell_type": "markdown",
   "id": "e34fae55-9e48-4f04-8768-bd40e208c179",
   "metadata": {},
   "source": [
    "Select the dots on the graph bellow and see how it afects the bar plot:"
   ]
  },
  {
   "cell_type": "code",
   "execution_count": null,
   "id": "6b30d191-1d93-4c54-af66-cd2886ecfc03",
   "metadata": {},
   "outputs": [],
   "source": [
    "scatterplot2"
   ]
  },
  {
   "cell_type": "code",
   "execution_count": null,
   "id": "3db73efd-a91b-4ce2-aa00-6d1fcc8c5970",
   "metadata": {},
   "outputs": [],
   "source": [
    "barplot3"
   ]
  },
  {
   "cell_type": "markdown",
   "id": "2d4938d6-021c-4048-81a8-487922c4c721",
   "metadata": {},
   "source": [
    "# LinearPlot"
   ]
  },
  {
   "cell_type": "markdown",
   "id": "039fe5f1-350c-478d-8d95-8fb7f163cc93",
   "metadata": {},
   "source": [
    "Generates a linear plot from data. It shows the mean value on Y axis for the same value in X axis.\n",
    "\n",
    "Parameters:\n",
    "- **data**: a pandas' DataFrame\n",
    "- **x**: a string representing the X axis\n",
    "- **y**: a string representing the Y axis\n",
    "- **hue**: a string representing to which variable the dots are going to be collored by (optional)\n",
    "\n",
    "Callbacks:\n",
    "- **on_click_value**: will be called when a dot is clicked. Change the value of *clickedValue*\n",
    "- **on_select_values**: will be called when multiple dots are selected. Change the value of *selectedValues*"
   ]
  },
  {
   "cell_type": "code",
   "execution_count": null,
   "id": "27c3aeec-fd36-4179-98b4-f803d8bb1ac4",
   "metadata": {},
   "outputs": [],
   "source": [
    "from d3vis_ipynb import LinearPlot\n",
    "linearplot = LinearPlot(data = iris, x = 'Sepal.Length', y = 'Sepal.Width', hue = \"Species\")\n",
    "linearplot"
   ]
  },
  {
   "cell_type": "markdown",
   "id": "40e42304-6064-43b6-b732-ad2f55ecb4d0",
   "metadata": {},
   "source": [
    "Click and drag the mouse to select multiple dots, then run the cell bellow:"
   ]
  },
  {
   "cell_type": "code",
   "execution_count": null,
   "id": "f507fc5b-f7f9-4432-a52c-46e08ba76bb5",
   "metadata": {},
   "outputs": [],
   "source": [
    "# linearplot.selectedValues"
   ]
  },
  {
   "cell_type": "markdown",
   "id": "58100a50-9b62-4d5c-9b7d-910d93fef366",
   "metadata": {},
   "source": [
    "A plot without hue:"
   ]
  },
  {
   "cell_type": "code",
   "execution_count": null,
   "id": "9dd0c457-4c38-42fb-8e6d-a8339e9e7997",
   "metadata": {},
   "outputs": [],
   "source": [
    "linearplot2 = LinearPlot(data = iris, x = 'Sepal.Length', y = 'Sepal.Width')\n",
    "linearplot2"
   ]
  },
  {
   "cell_type": "markdown",
   "id": "14c74f5d-0703-4a3b-9795-b520278a4df5",
   "metadata": {},
   "source": [
    "# WaterfallPlot"
   ]
  },
  {
   "cell_type": "markdown",
   "id": "76b9e6f6-f9dd-4d08-b52b-3c3b918bed58",
   "metadata": {},
   "source": [
    "Generates a waterfall plot from data.\n",
    "\n",
    "Parameters:\n",
    "- **data**: a pandas' DataFrame\n",
    "- **x**: a string representing the X axis\n",
    "- **y**: a string representing the Y axis\n",
    "- **baseValue**: a float with the base value\n",
    "- **explanation**: a shap's Explanation object"
   ]
  },
  {
   "cell_type": "markdown",
   "id": "e643776f-40f1-4604-8e51-71ca6b2e4e89",
   "metadata": {},
   "source": [
    "Can be initialized two different ways: with a *shap._explanation.Explanation* object or with a *pandas.core.frame.DataFrame* object."
   ]
  },
  {
   "cell_type": "code",
   "execution_count": null,
   "id": "c8715966-8a5a-4c5c-bbb6-908fe959edde",
   "metadata": {},
   "outputs": [],
   "source": [
    "from d3vis_ipynb import WaterfallPlot\n",
    "waterfallPlot = WaterfallPlot(explanation=shap_values[0])\n",
    "waterfallPlot"
   ]
  },
  {
   "cell_type": "code",
   "execution_count": null,
   "id": "6079c21f-2d94-46af-8ba9-af3a7b3d24c8",
   "metadata": {},
   "outputs": [],
   "source": [
    "import pandas as pd\n",
    "shap_df = pd.DataFrame()\n",
    "shap_df.insert(0, \"xAxis\", shap_values[0].values)\n",
    "shap_df.insert(0, \"yAxis\", shap_values[0].feature_names)\n",
    "\n",
    "waterfallPlot2 = WaterfallPlot(data=shap_df, x=\"xAxis\", y=\"yAxis\", baseValue=shap_values[0].base_values)\n",
    "waterfallPlot2"
   ]
  }
 ],
 "metadata": {
  "kernelspec": {
   "display_name": "Python 3 (ipykernel)",
   "language": "python",
   "name": "python3"
  },
  "language_info": {
   "codemirror_mode": {
    "name": "ipython",
    "version": 3
   },
   "file_extension": ".py",
   "mimetype": "text/x-python",
   "name": "python",
   "nbconvert_exporter": "python",
   "pygments_lexer": "ipython3",
   "version": "3.11.9"
  }
 },
 "nbformat": 4,
 "nbformat_minor": 5
}
