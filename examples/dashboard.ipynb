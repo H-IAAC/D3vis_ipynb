{
 "cells": [
  {
   "cell_type": "markdown",
   "id": "df8e4392-0f81-430f-bbc4-1d549b0f86cf",
   "metadata": {},
   "source": [
    "[![Open In Colab](https://colab.research.google.com/assets/colab-badge.svg)](https://colab.research.google.com/github/H-IAAC/d3vis_ipynb/blob/main/examples/dashboard.ipynb)"
   ]
  },
  {
   "cell_type": "code",
   "execution_count": null,
   "id": "d43b4d4a-1458-4f70-ae43-dcbff59a7f4c",
   "metadata": {},
   "outputs": [],
   "source": [
    "from d3vis_ipynb import DecisionPlot, WaterfallPlot, MatrixLayout, BeeswarmPlot, ForcePlot, Button, ScatterPlot\n",
    "from sklearn.manifold import TSNE\n",
    "import xgboost\n",
    "import shap\n",
    "import ssl\n",
    "import numpy as np\n",
    "import pandas as pd\n",
    "np.set_printoptions(suppress=True)\n",
    "ssl._create_default_https_context = ssl._create_unverified_context\n",
    "# train XGBoost model\n",
    "X, y = shap.datasets.adult()\n",
    "X_display, y_display = shap.datasets.adult(display=True)\n",
    "model = xgboost.XGBClassifier(n_estimators=100, max_depth=2).fit(X, y)\n",
    "\n",
    "# compute SHAP values\n",
    "explainer = shap.Explainer(model, X)\n",
    "shap_values = explainer(X[:1000])"
   ]
  },
  {
   "cell_type": "code",
   "execution_count": null,
   "id": "d13ca468-195c-43f0-bae1-35d020f6bafd",
   "metadata": {},
   "outputs": [],
   "source": [
    "X.head()"
   ]
  },
  {
   "cell_type": "code",
   "execution_count": null,
   "id": "4a7d830c-581f-4738-b637-296e4c528063",
   "metadata": {},
   "outputs": [],
   "source": [
    "y"
   ]
  },
  {
   "cell_type": "code",
   "execution_count": null,
   "id": "2d3ac625-9e5b-46a2-bde1-6b8462c9153c",
   "metadata": {},
   "outputs": [],
   "source": [
    "beeswarmPlot = BeeswarmPlot(explanation=shap_values[:500])\n",
    "waterfallPlot = WaterfallPlot(explanation=shap_values[0])\n",
    "button = Button(description=\"Calculate TSNE\")\n",
    "scatterplot = ScatterPlot(data=pd.DataFrame(), x='dim1', y='dim2', hue='color')\n",
    "\n",
    "def on_beeswarm_selected(values):\n",
    "    if(beeswarmPlot.selectedValues):\n",
    "        waterfallPlot.explanation = beeswarmPlot.selectedValues[0]\n",
    "\n",
    "beeswarmPlot.on_select_values(on_beeswarm_selected)\n",
    "\n",
    "def calculate_TSNE(values):\n",
    "    result = np.sum(beeswarmPlot.selectedValues.values, axis=1) + beeswarmPlot.selectedValues[0].base_values\n",
    "    result = result >= 0\n",
    "    tsne = TSNE(n_components=2, random_state=42)\n",
    "    data_2d = tsne.fit_transform(beeswarmPlot.selectedValues.values)\n",
    "    df = pd.DataFrame({\n",
    "        'dim1': data_2d[:, 0],\n",
    "        'dim2': data_2d[:, 1],\n",
    "        'color': result\n",
    "    })\n",
    "    scatterplot.data = df\n",
    "    \n",
    "button.on_click(calculate_TSNE)\n",
    "\n",
    "matrix = [[1, 1, 1, 5],\n",
    "          [1, 1, 1, 5],\n",
    "          [1, 1, 1, 5],\n",
    "          [2, 3, 3, 3],\n",
    "          [4, 3, 3, 3]]\n",
    "matrixLayout = MatrixLayout(matrix)\n",
    "matrixLayout.add(beeswarmPlot, 1)\n",
    "matrixLayout.add(waterfallPlot, 5)\n",
    "matrixLayout.add(button, 2)\n",
    "matrixLayout.add(scatterplot, 3)\n",
    "matrixLayout"
   ]
  },
  {
   "cell_type": "code",
   "execution_count": null,
   "id": "67f2ffe2-0f15-4229-9877-9b3e8c13329d",
   "metadata": {},
   "outputs": [],
   "source": [
    "scatterplot.selectedValues"
   ]
  }
 ],
 "metadata": {
  "kernelspec": {
   "display_name": "Python 3 (ipykernel)",
   "language": "python",
   "name": "python3"
  },
  "language_info": {
   "codemirror_mode": {
    "name": "ipython",
    "version": 3
   },
   "file_extension": ".py",
   "mimetype": "text/x-python",
   "name": "python",
   "nbconvert_exporter": "python",
   "pygments_lexer": "ipython3",
   "version": "3.11.9"
  }
 },
 "nbformat": 4,
 "nbformat_minor": 5
}
